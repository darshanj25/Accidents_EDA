{
  "cells": [
    {
      "cell_type": "markdown",
      "metadata": {
        "id": "FIPMsRH37EjL"
      },
      "source": [
        "\n",
        "# US Accidents Exploratory Data Analysis\n",
        "\n",
        "Road accidents are a major cause of concern worldwide. In this project, we aim to perform exploratory data analysis (EDA) on a dataset of road accidents in order to gain insights into the factors that contribute to accidents. We will use Python to analyze the data and visualize the results. Our goal is to identify patterns and trends in the data that can help us understand the causes of accidents and develop strategies for preventing them in the future."
      ]
    },
    {
      "cell_type": "markdown",
      "source": [
        "[Dataset](https://www.kaggle.com/sobhanmoosavi/us-accidents) - This is a dataset of car accidents in the USA that covers 49 states excluding New York from February 2016 to December 2021. The data is collected from multiple APIs that provide streaming traffic incident data from various sources such as government transportation departments, law enforcement agencies, traffic cameras, and sensors. The dataset currently includes approximately 2.8 million accident records.\n",
        "\n"
      ],
      "metadata": {
        "id": "5ml9ALfqzCYQ"
      }
    },
    {
      "cell_type": "code",
      "execution_count": 3,
      "metadata": {
        "id": "O6QlzTGY7JT1"
      },
      "outputs": [],
      "source": [
        "pip install opendatasets --upgrade --quiet"
      ]
    },
    {
      "cell_type": "code",
      "execution_count": 4,
      "metadata": {
        "colab": {
          "base_uri": "https://localhost:8080/"
        },
        "id": "Cbgnqzgi8H5D",
        "outputId": "65d716ce-192a-4be2-8a78-512b7829671c"
      },
      "outputs": [
        {
          "output_type": "stream",
          "name": "stdout",
          "text": [
            "Skipping, found downloaded files in \"./us-accidents\" (use force=True to force download)\n"
          ]
        }
      ],
      "source": [
        "import opendatasets as od\n",
        "\n",
        "download_url = 'https://www.kaggle.com/sobhanmoosavi/us-accidents'\n",
        "\n",
        "od.download(download_url)"
      ]
    },
    {
      "cell_type": "code",
      "execution_count": 5,
      "metadata": {
        "id": "QBJB1AK29BT2"
      },
      "outputs": [],
      "source": [
        "data_filename = 'us-accidents/US_Accidents_Dec21_updated.csv'"
      ]
    },
    {
      "cell_type": "markdown",
      "metadata": {
        "id": "L0doTYcH7Qxs"
      },
      "source": [
        "## Data Preparation and Cleaning\n",
        "\n",
        "1. Load the file using Pandas\n",
        "2. Look at some information about the data & the columns\n",
        "3. Fix any missing or incorrect values"
      ]
    },
    {
      "cell_type": "code",
      "execution_count": 6,
      "metadata": {
        "id": "p9o1x5mC7JJ-"
      },
      "outputs": [],
      "source": [
        "import pandas as pd"
      ]
    },
    {
      "cell_type": "code",
      "execution_count": 7,
      "metadata": {
        "id": "-2x1XO5w7VgE"
      },
      "outputs": [],
      "source": [
        "df = pd.read_csv(data_filename)"
      ]
    },
    {
      "cell_type": "code",
      "execution_count": 8,
      "metadata": {
        "colab": {
          "base_uri": "https://localhost:8080/",
          "height": 939
        },
        "id": "NHajB4gW7V8Z",
        "outputId": "487ecad9-15fb-400b-bb15-42ccd8451ca2"
      },
      "outputs": [
        {
          "output_type": "execute_result",
          "data": {
            "text/plain": [
              "                ID  Severity           Start_Time             End_Time  \\\n",
              "0              A-1         3  2016-02-08 00:37:08  2016-02-08 06:37:08   \n",
              "1              A-2         2  2016-02-08 05:56:20  2016-02-08 11:56:20   \n",
              "2              A-3         2  2016-02-08 06:15:39  2016-02-08 12:15:39   \n",
              "3              A-4         2  2016-02-08 06:51:45  2016-02-08 12:51:45   \n",
              "4              A-5         3  2016-02-08 07:53:43  2016-02-08 13:53:43   \n",
              "...            ...       ...                  ...                  ...   \n",
              "2845337  A-2845338         2  2019-08-23 18:03:25  2019-08-23 18:32:01   \n",
              "2845338  A-2845339         2  2019-08-23 19:11:30  2019-08-23 19:38:23   \n",
              "2845339  A-2845340         2  2019-08-23 19:00:21  2019-08-23 19:28:49   \n",
              "2845340  A-2845341         2  2019-08-23 19:00:21  2019-08-23 19:29:42   \n",
              "2845341  A-2845342         2  2019-08-23 18:52:06  2019-08-23 19:21:31   \n",
              "\n",
              "         Start_Lat   Start_Lng    End_Lat     End_Lng  Distance(mi)  \\\n",
              "0        40.108910  -83.092860  40.112060  -83.031870         3.230   \n",
              "1        39.865420  -84.062800  39.865010  -84.048730         0.747   \n",
              "2        39.102660  -84.524680  39.102090  -84.523960         0.055   \n",
              "3        41.062130  -81.537840  41.062170  -81.535470         0.123   \n",
              "4        39.172393  -84.492792  39.170476  -84.501798         0.500   \n",
              "...            ...         ...        ...         ...           ...   \n",
              "2845337  34.002480 -117.379360  33.998880 -117.370940         0.543   \n",
              "2845338  32.766960 -117.148060  32.765550 -117.153630         0.338   \n",
              "2845339  33.775450 -117.847790  33.777400 -117.857270         0.561   \n",
              "2845340  33.992460 -118.403020  33.983110 -118.395650         0.772   \n",
              "2845341  34.133930 -117.230920  34.137360 -117.239340         0.537   \n",
              "\n",
              "                                               Description  ...  Roundabout  \\\n",
              "0        Between Sawmill Rd/Exit 20 and OH-315/Olentang...  ...       False   \n",
              "1                       At OH-4/OH-235/Exit 41 - Accident.  ...       False   \n",
              "2                         At I-71/US-50/Exit 1 - Accident.  ...       False   \n",
              "3                          At Dart Ave/Exit 21 - Accident.  ...       False   \n",
              "4                       At Mitchell Ave/Exit 6 - Accident.  ...       False   \n",
              "...                                                    ...  ...         ...   \n",
              "2845337                           At Market St - Accident.  ...       False   \n",
              "2845338    At Camino Del Rio/Mission Center Rd - Accident.  ...       False   \n",
              "2845339  At Glassell St/Grand Ave - Accident. in the ri...  ...       False   \n",
              "2845340     At CA-90/Marina Fwy/Jefferson Blvd - Accident.  ...       False   \n",
              "2845341              At Highland Ave/Arden Ave - Accident.  ...       False   \n",
              "\n",
              "        Station   Stop Traffic_Calming Traffic_Signal Turning_Loop  \\\n",
              "0         False  False           False          False        False   \n",
              "1         False  False           False          False        False   \n",
              "2         False  False           False          False        False   \n",
              "3         False  False           False          False        False   \n",
              "4         False  False           False          False        False   \n",
              "...         ...    ...             ...            ...          ...   \n",
              "2845337   False  False           False          False        False   \n",
              "2845338   False  False           False          False        False   \n",
              "2845339   False  False           False          False        False   \n",
              "2845340   False  False           False          False        False   \n",
              "2845341   False  False           False          False        False   \n",
              "\n",
              "        Sunrise_Sunset Civil_Twilight Nautical_Twilight Astronomical_Twilight  \n",
              "0                Night          Night             Night                 Night  \n",
              "1                Night          Night             Night                 Night  \n",
              "2                Night          Night             Night                   Day  \n",
              "3                Night          Night               Day                   Day  \n",
              "4                  Day            Day               Day                   Day  \n",
              "...                ...            ...               ...                   ...  \n",
              "2845337            Day            Day               Day                   Day  \n",
              "2845338            Day            Day               Day                   Day  \n",
              "2845339            Day            Day               Day                   Day  \n",
              "2845340            Day            Day               Day                   Day  \n",
              "2845341            Day            Day               Day                   Day  \n",
              "\n",
              "[2845342 rows x 47 columns]"
            ],
            "text/html": [
              "\n",
              "  <div id=\"df-4e45aab4-6eb7-4359-a184-4f7e25322c1e\">\n",
              "    <div class=\"colab-df-container\">\n",
              "      <div>\n",
              "<style scoped>\n",
              "    .dataframe tbody tr th:only-of-type {\n",
              "        vertical-align: middle;\n",
              "    }\n",
              "\n",
              "    .dataframe tbody tr th {\n",
              "        vertical-align: top;\n",
              "    }\n",
              "\n",
              "    .dataframe thead th {\n",
              "        text-align: right;\n",
              "    }\n",
              "</style>\n",
              "<table border=\"1\" class=\"dataframe\">\n",
              "  <thead>\n",
              "    <tr style=\"text-align: right;\">\n",
              "      <th></th>\n",
              "      <th>ID</th>\n",
              "      <th>Severity</th>\n",
              "      <th>Start_Time</th>\n",
              "      <th>End_Time</th>\n",
              "      <th>Start_Lat</th>\n",
              "      <th>Start_Lng</th>\n",
              "      <th>End_Lat</th>\n",
              "      <th>End_Lng</th>\n",
              "      <th>Distance(mi)</th>\n",
              "      <th>Description</th>\n",
              "      <th>...</th>\n",
              "      <th>Roundabout</th>\n",
              "      <th>Station</th>\n",
              "      <th>Stop</th>\n",
              "      <th>Traffic_Calming</th>\n",
              "      <th>Traffic_Signal</th>\n",
              "      <th>Turning_Loop</th>\n",
              "      <th>Sunrise_Sunset</th>\n",
              "      <th>Civil_Twilight</th>\n",
              "      <th>Nautical_Twilight</th>\n",
              "      <th>Astronomical_Twilight</th>\n",
              "    </tr>\n",
              "  </thead>\n",
              "  <tbody>\n",
              "    <tr>\n",
              "      <th>0</th>\n",
              "      <td>A-1</td>\n",
              "      <td>3</td>\n",
              "      <td>2016-02-08 00:37:08</td>\n",
              "      <td>2016-02-08 06:37:08</td>\n",
              "      <td>40.108910</td>\n",
              "      <td>-83.092860</td>\n",
              "      <td>40.112060</td>\n",
              "      <td>-83.031870</td>\n",
              "      <td>3.230</td>\n",
              "      <td>Between Sawmill Rd/Exit 20 and OH-315/Olentang...</td>\n",
              "      <td>...</td>\n",
              "      <td>False</td>\n",
              "      <td>False</td>\n",
              "      <td>False</td>\n",
              "      <td>False</td>\n",
              "      <td>False</td>\n",
              "      <td>False</td>\n",
              "      <td>Night</td>\n",
              "      <td>Night</td>\n",
              "      <td>Night</td>\n",
              "      <td>Night</td>\n",
              "    </tr>\n",
              "    <tr>\n",
              "      <th>1</th>\n",
              "      <td>A-2</td>\n",
              "      <td>2</td>\n",
              "      <td>2016-02-08 05:56:20</td>\n",
              "      <td>2016-02-08 11:56:20</td>\n",
              "      <td>39.865420</td>\n",
              "      <td>-84.062800</td>\n",
              "      <td>39.865010</td>\n",
              "      <td>-84.048730</td>\n",
              "      <td>0.747</td>\n",
              "      <td>At OH-4/OH-235/Exit 41 - Accident.</td>\n",
              "      <td>...</td>\n",
              "      <td>False</td>\n",
              "      <td>False</td>\n",
              "      <td>False</td>\n",
              "      <td>False</td>\n",
              "      <td>False</td>\n",
              "      <td>False</td>\n",
              "      <td>Night</td>\n",
              "      <td>Night</td>\n",
              "      <td>Night</td>\n",
              "      <td>Night</td>\n",
              "    </tr>\n",
              "    <tr>\n",
              "      <th>2</th>\n",
              "      <td>A-3</td>\n",
              "      <td>2</td>\n",
              "      <td>2016-02-08 06:15:39</td>\n",
              "      <td>2016-02-08 12:15:39</td>\n",
              "      <td>39.102660</td>\n",
              "      <td>-84.524680</td>\n",
              "      <td>39.102090</td>\n",
              "      <td>-84.523960</td>\n",
              "      <td>0.055</td>\n",
              "      <td>At I-71/US-50/Exit 1 - Accident.</td>\n",
              "      <td>...</td>\n",
              "      <td>False</td>\n",
              "      <td>False</td>\n",
              "      <td>False</td>\n",
              "      <td>False</td>\n",
              "      <td>False</td>\n",
              "      <td>False</td>\n",
              "      <td>Night</td>\n",
              "      <td>Night</td>\n",
              "      <td>Night</td>\n",
              "      <td>Day</td>\n",
              "    </tr>\n",
              "    <tr>\n",
              "      <th>3</th>\n",
              "      <td>A-4</td>\n",
              "      <td>2</td>\n",
              "      <td>2016-02-08 06:51:45</td>\n",
              "      <td>2016-02-08 12:51:45</td>\n",
              "      <td>41.062130</td>\n",
              "      <td>-81.537840</td>\n",
              "      <td>41.062170</td>\n",
              "      <td>-81.535470</td>\n",
              "      <td>0.123</td>\n",
              "      <td>At Dart Ave/Exit 21 - Accident.</td>\n",
              "      <td>...</td>\n",
              "      <td>False</td>\n",
              "      <td>False</td>\n",
              "      <td>False</td>\n",
              "      <td>False</td>\n",
              "      <td>False</td>\n",
              "      <td>False</td>\n",
              "      <td>Night</td>\n",
              "      <td>Night</td>\n",
              "      <td>Day</td>\n",
              "      <td>Day</td>\n",
              "    </tr>\n",
              "    <tr>\n",
              "      <th>4</th>\n",
              "      <td>A-5</td>\n",
              "      <td>3</td>\n",
              "      <td>2016-02-08 07:53:43</td>\n",
              "      <td>2016-02-08 13:53:43</td>\n",
              "      <td>39.172393</td>\n",
              "      <td>-84.492792</td>\n",
              "      <td>39.170476</td>\n",
              "      <td>-84.501798</td>\n",
              "      <td>0.500</td>\n",
              "      <td>At Mitchell Ave/Exit 6 - Accident.</td>\n",
              "      <td>...</td>\n",
              "      <td>False</td>\n",
              "      <td>False</td>\n",
              "      <td>False</td>\n",
              "      <td>False</td>\n",
              "      <td>False</td>\n",
              "      <td>False</td>\n",
              "      <td>Day</td>\n",
              "      <td>Day</td>\n",
              "      <td>Day</td>\n",
              "      <td>Day</td>\n",
              "    </tr>\n",
              "    <tr>\n",
              "      <th>...</th>\n",
              "      <td>...</td>\n",
              "      <td>...</td>\n",
              "      <td>...</td>\n",
              "      <td>...</td>\n",
              "      <td>...</td>\n",
              "      <td>...</td>\n",
              "      <td>...</td>\n",
              "      <td>...</td>\n",
              "      <td>...</td>\n",
              "      <td>...</td>\n",
              "      <td>...</td>\n",
              "      <td>...</td>\n",
              "      <td>...</td>\n",
              "      <td>...</td>\n",
              "      <td>...</td>\n",
              "      <td>...</td>\n",
              "      <td>...</td>\n",
              "      <td>...</td>\n",
              "      <td>...</td>\n",
              "      <td>...</td>\n",
              "      <td>...</td>\n",
              "    </tr>\n",
              "    <tr>\n",
              "      <th>2845337</th>\n",
              "      <td>A-2845338</td>\n",
              "      <td>2</td>\n",
              "      <td>2019-08-23 18:03:25</td>\n",
              "      <td>2019-08-23 18:32:01</td>\n",
              "      <td>34.002480</td>\n",
              "      <td>-117.379360</td>\n",
              "      <td>33.998880</td>\n",
              "      <td>-117.370940</td>\n",
              "      <td>0.543</td>\n",
              "      <td>At Market St - Accident.</td>\n",
              "      <td>...</td>\n",
              "      <td>False</td>\n",
              "      <td>False</td>\n",
              "      <td>False</td>\n",
              "      <td>False</td>\n",
              "      <td>False</td>\n",
              "      <td>False</td>\n",
              "      <td>Day</td>\n",
              "      <td>Day</td>\n",
              "      <td>Day</td>\n",
              "      <td>Day</td>\n",
              "    </tr>\n",
              "    <tr>\n",
              "      <th>2845338</th>\n",
              "      <td>A-2845339</td>\n",
              "      <td>2</td>\n",
              "      <td>2019-08-23 19:11:30</td>\n",
              "      <td>2019-08-23 19:38:23</td>\n",
              "      <td>32.766960</td>\n",
              "      <td>-117.148060</td>\n",
              "      <td>32.765550</td>\n",
              "      <td>-117.153630</td>\n",
              "      <td>0.338</td>\n",
              "      <td>At Camino Del Rio/Mission Center Rd - Accident.</td>\n",
              "      <td>...</td>\n",
              "      <td>False</td>\n",
              "      <td>False</td>\n",
              "      <td>False</td>\n",
              "      <td>False</td>\n",
              "      <td>False</td>\n",
              "      <td>False</td>\n",
              "      <td>Day</td>\n",
              "      <td>Day</td>\n",
              "      <td>Day</td>\n",
              "      <td>Day</td>\n",
              "    </tr>\n",
              "    <tr>\n",
              "      <th>2845339</th>\n",
              "      <td>A-2845340</td>\n",
              "      <td>2</td>\n",
              "      <td>2019-08-23 19:00:21</td>\n",
              "      <td>2019-08-23 19:28:49</td>\n",
              "      <td>33.775450</td>\n",
              "      <td>-117.847790</td>\n",
              "      <td>33.777400</td>\n",
              "      <td>-117.857270</td>\n",
              "      <td>0.561</td>\n",
              "      <td>At Glassell St/Grand Ave - Accident. in the ri...</td>\n",
              "      <td>...</td>\n",
              "      <td>False</td>\n",
              "      <td>False</td>\n",
              "      <td>False</td>\n",
              "      <td>False</td>\n",
              "      <td>False</td>\n",
              "      <td>False</td>\n",
              "      <td>Day</td>\n",
              "      <td>Day</td>\n",
              "      <td>Day</td>\n",
              "      <td>Day</td>\n",
              "    </tr>\n",
              "    <tr>\n",
              "      <th>2845340</th>\n",
              "      <td>A-2845341</td>\n",
              "      <td>2</td>\n",
              "      <td>2019-08-23 19:00:21</td>\n",
              "      <td>2019-08-23 19:29:42</td>\n",
              "      <td>33.992460</td>\n",
              "      <td>-118.403020</td>\n",
              "      <td>33.983110</td>\n",
              "      <td>-118.395650</td>\n",
              "      <td>0.772</td>\n",
              "      <td>At CA-90/Marina Fwy/Jefferson Blvd - Accident.</td>\n",
              "      <td>...</td>\n",
              "      <td>False</td>\n",
              "      <td>False</td>\n",
              "      <td>False</td>\n",
              "      <td>False</td>\n",
              "      <td>False</td>\n",
              "      <td>False</td>\n",
              "      <td>Day</td>\n",
              "      <td>Day</td>\n",
              "      <td>Day</td>\n",
              "      <td>Day</td>\n",
              "    </tr>\n",
              "    <tr>\n",
              "      <th>2845341</th>\n",
              "      <td>A-2845342</td>\n",
              "      <td>2</td>\n",
              "      <td>2019-08-23 18:52:06</td>\n",
              "      <td>2019-08-23 19:21:31</td>\n",
              "      <td>34.133930</td>\n",
              "      <td>-117.230920</td>\n",
              "      <td>34.137360</td>\n",
              "      <td>-117.239340</td>\n",
              "      <td>0.537</td>\n",
              "      <td>At Highland Ave/Arden Ave - Accident.</td>\n",
              "      <td>...</td>\n",
              "      <td>False</td>\n",
              "      <td>False</td>\n",
              "      <td>False</td>\n",
              "      <td>False</td>\n",
              "      <td>False</td>\n",
              "      <td>False</td>\n",
              "      <td>Day</td>\n",
              "      <td>Day</td>\n",
              "      <td>Day</td>\n",
              "      <td>Day</td>\n",
              "    </tr>\n",
              "  </tbody>\n",
              "</table>\n",
              "<p>2845342 rows × 47 columns</p>\n",
              "</div>\n",
              "      <button class=\"colab-df-convert\" onclick=\"convertToInteractive('df-4e45aab4-6eb7-4359-a184-4f7e25322c1e')\"\n",
              "              title=\"Convert this dataframe to an interactive table.\"\n",
              "              style=\"display:none;\">\n",
              "        \n",
              "  <svg xmlns=\"http://www.w3.org/2000/svg\" height=\"24px\"viewBox=\"0 0 24 24\"\n",
              "       width=\"24px\">\n",
              "    <path d=\"M0 0h24v24H0V0z\" fill=\"none\"/>\n",
              "    <path d=\"M18.56 5.44l.94 2.06.94-2.06 2.06-.94-2.06-.94-.94-2.06-.94 2.06-2.06.94zm-11 1L8.5 8.5l.94-2.06 2.06-.94-2.06-.94L8.5 2.5l-.94 2.06-2.06.94zm10 10l.94 2.06.94-2.06 2.06-.94-2.06-.94-.94-2.06-.94 2.06-2.06.94z\"/><path d=\"M17.41 7.96l-1.37-1.37c-.4-.4-.92-.59-1.43-.59-.52 0-1.04.2-1.43.59L10.3 9.45l-7.72 7.72c-.78.78-.78 2.05 0 2.83L4 21.41c.39.39.9.59 1.41.59.51 0 1.02-.2 1.41-.59l7.78-7.78 2.81-2.81c.8-.78.8-2.07 0-2.86zM5.41 20L4 18.59l7.72-7.72 1.47 1.35L5.41 20z\"/>\n",
              "  </svg>\n",
              "      </button>\n",
              "      \n",
              "  <style>\n",
              "    .colab-df-container {\n",
              "      display:flex;\n",
              "      flex-wrap:wrap;\n",
              "      gap: 12px;\n",
              "    }\n",
              "\n",
              "    .colab-df-convert {\n",
              "      background-color: #E8F0FE;\n",
              "      border: none;\n",
              "      border-radius: 50%;\n",
              "      cursor: pointer;\n",
              "      display: none;\n",
              "      fill: #1967D2;\n",
              "      height: 32px;\n",
              "      padding: 0 0 0 0;\n",
              "      width: 32px;\n",
              "    }\n",
              "\n",
              "    .colab-df-convert:hover {\n",
              "      background-color: #E2EBFA;\n",
              "      box-shadow: 0px 1px 2px rgba(60, 64, 67, 0.3), 0px 1px 3px 1px rgba(60, 64, 67, 0.15);\n",
              "      fill: #174EA6;\n",
              "    }\n",
              "\n",
              "    [theme=dark] .colab-df-convert {\n",
              "      background-color: #3B4455;\n",
              "      fill: #D2E3FC;\n",
              "    }\n",
              "\n",
              "    [theme=dark] .colab-df-convert:hover {\n",
              "      background-color: #434B5C;\n",
              "      box-shadow: 0px 1px 3px 1px rgba(0, 0, 0, 0.15);\n",
              "      filter: drop-shadow(0px 1px 2px rgba(0, 0, 0, 0.3));\n",
              "      fill: #FFFFFF;\n",
              "    }\n",
              "  </style>\n",
              "\n",
              "      <script>\n",
              "        const buttonEl =\n",
              "          document.querySelector('#df-4e45aab4-6eb7-4359-a184-4f7e25322c1e button.colab-df-convert');\n",
              "        buttonEl.style.display =\n",
              "          google.colab.kernel.accessAllowed ? 'block' : 'none';\n",
              "\n",
              "        async function convertToInteractive(key) {\n",
              "          const element = document.querySelector('#df-4e45aab4-6eb7-4359-a184-4f7e25322c1e');\n",
              "          const dataTable =\n",
              "            await google.colab.kernel.invokeFunction('convertToInteractive',\n",
              "                                                     [key], {});\n",
              "          if (!dataTable) return;\n",
              "\n",
              "          const docLinkHtml = 'Like what you see? Visit the ' +\n",
              "            '<a target=\"_blank\" href=https://colab.research.google.com/notebooks/data_table.ipynb>data table notebook</a>'\n",
              "            + ' to learn more about interactive tables.';\n",
              "          element.innerHTML = '';\n",
              "          dataTable['output_type'] = 'display_data';\n",
              "          await google.colab.output.renderOutput(dataTable, element);\n",
              "          const docLink = document.createElement('div');\n",
              "          docLink.innerHTML = docLinkHtml;\n",
              "          element.appendChild(docLink);\n",
              "        }\n",
              "      </script>\n",
              "    </div>\n",
              "  </div>\n",
              "  "
            ]
          },
          "metadata": {},
          "execution_count": 8
        }
      ],
      "source": [
        "df"
      ]
    },
    {
      "cell_type": "code",
      "execution_count": 9,
      "metadata": {
        "colab": {
          "base_uri": "https://localhost:8080/"
        },
        "id": "lnQGGWJV93Qy",
        "outputId": "922f009f-3a7b-4e81-9426-650632bea209"
      },
      "outputs": [
        {
          "output_type": "stream",
          "name": "stdout",
          "text": [
            "<class 'pandas.core.frame.DataFrame'>\n",
            "RangeIndex: 2845342 entries, 0 to 2845341\n",
            "Data columns (total 47 columns):\n",
            " #   Column                 Dtype  \n",
            "---  ------                 -----  \n",
            " 0   ID                     object \n",
            " 1   Severity               int64  \n",
            " 2   Start_Time             object \n",
            " 3   End_Time               object \n",
            " 4   Start_Lat              float64\n",
            " 5   Start_Lng              float64\n",
            " 6   End_Lat                float64\n",
            " 7   End_Lng                float64\n",
            " 8   Distance(mi)           float64\n",
            " 9   Description            object \n",
            " 10  Number                 float64\n",
            " 11  Street                 object \n",
            " 12  Side                   object \n",
            " 13  City                   object \n",
            " 14  County                 object \n",
            " 15  State                  object \n",
            " 16  Zipcode                object \n",
            " 17  Country                object \n",
            " 18  Timezone               object \n",
            " 19  Airport_Code           object \n",
            " 20  Weather_Timestamp      object \n",
            " 21  Temperature(F)         float64\n",
            " 22  Wind_Chill(F)          float64\n",
            " 23  Humidity(%)            float64\n",
            " 24  Pressure(in)           float64\n",
            " 25  Visibility(mi)         float64\n",
            " 26  Wind_Direction         object \n",
            " 27  Wind_Speed(mph)        float64\n",
            " 28  Precipitation(in)      float64\n",
            " 29  Weather_Condition      object \n",
            " 30  Amenity                bool   \n",
            " 31  Bump                   bool   \n",
            " 32  Crossing               bool   \n",
            " 33  Give_Way               bool   \n",
            " 34  Junction               bool   \n",
            " 35  No_Exit                bool   \n",
            " 36  Railway                bool   \n",
            " 37  Roundabout             bool   \n",
            " 38  Station                bool   \n",
            " 39  Stop                   bool   \n",
            " 40  Traffic_Calming        bool   \n",
            " 41  Traffic_Signal         bool   \n",
            " 42  Turning_Loop           bool   \n",
            " 43  Sunrise_Sunset         object \n",
            " 44  Civil_Twilight         object \n",
            " 45  Nautical_Twilight      object \n",
            " 46  Astronomical_Twilight  object \n",
            "dtypes: bool(13), float64(13), int64(1), object(20)\n",
            "memory usage: 773.4+ MB\n"
          ]
        }
      ],
      "source": [
        "df.info()"
      ]
    },
    {
      "cell_type": "code",
      "execution_count": 10,
      "metadata": {
        "colab": {
          "base_uri": "https://localhost:8080/",
          "height": 364
        },
        "id": "uJGnotnv-WXC",
        "outputId": "c93f8ced-56b1-4a68-9843-7b3baeadf105"
      },
      "outputs": [
        {
          "output_type": "execute_result",
          "data": {
            "text/plain": [
              "           Severity     Start_Lat     Start_Lng       End_Lat       End_Lng  \\\n",
              "count  2.845342e+06  2.845342e+06  2.845342e+06  2.845342e+06  2.845342e+06   \n",
              "mean   2.137572e+00  3.624520e+01 -9.711463e+01  3.624532e+01 -9.711439e+01   \n",
              "std    4.787216e-01  5.363797e+00  1.831782e+01  5.363873e+00  1.831763e+01   \n",
              "min    1.000000e+00  2.456603e+01 -1.245481e+02  2.456601e+01 -1.245457e+02   \n",
              "25%    2.000000e+00  3.344517e+01 -1.180331e+02  3.344628e+01 -1.180333e+02   \n",
              "50%    2.000000e+00  3.609861e+01 -9.241808e+01  3.609799e+01 -9.241772e+01   \n",
              "75%    2.000000e+00  4.016024e+01 -8.037243e+01  4.016105e+01 -8.037338e+01   \n",
              "max    4.000000e+00  4.900058e+01 -6.711317e+01  4.907500e+01 -6.710924e+01   \n",
              "\n",
              "       Distance(mi)        Number  Temperature(F)  Wind_Chill(F)  \\\n",
              "count  2.845342e+06  1.101431e+06    2.776068e+06   2.375699e+06   \n",
              "mean   7.026779e-01  8.089408e+03    6.179356e+01   5.965823e+01   \n",
              "std    1.560361e+00  1.836009e+04    1.862263e+01   2.116097e+01   \n",
              "min    0.000000e+00  0.000000e+00   -8.900000e+01  -8.900000e+01   \n",
              "25%    5.200000e-02  1.270000e+03    5.000000e+01   4.600000e+01   \n",
              "50%    2.440000e-01  4.007000e+03    6.400000e+01   6.300000e+01   \n",
              "75%    7.640000e-01  9.567000e+03    7.600000e+01   7.600000e+01   \n",
              "max    1.551860e+02  9.999997e+06    1.960000e+02   1.960000e+02   \n",
              "\n",
              "        Humidity(%)  Pressure(in)  Visibility(mi)  Wind_Speed(mph)  \\\n",
              "count  2.772250e+06  2.786142e+06    2.774796e+06     2.687398e+06   \n",
              "mean   6.436545e+01  2.947234e+01    9.099391e+00     7.395044e+00   \n",
              "std    2.287457e+01  1.045286e+00    2.717546e+00     5.527454e+00   \n",
              "min    1.000000e+00  0.000000e+00    0.000000e+00     0.000000e+00   \n",
              "25%    4.800000e+01  2.931000e+01    1.000000e+01     3.500000e+00   \n",
              "50%    6.700000e+01  2.982000e+01    1.000000e+01     7.000000e+00   \n",
              "75%    8.300000e+01  3.001000e+01    1.000000e+01     1.000000e+01   \n",
              "max    1.000000e+02  5.890000e+01    1.400000e+02     1.087000e+03   \n",
              "\n",
              "       Precipitation(in)  \n",
              "count       2.295884e+06  \n",
              "mean        7.016940e-03  \n",
              "std         9.348831e-02  \n",
              "min         0.000000e+00  \n",
              "25%         0.000000e+00  \n",
              "50%         0.000000e+00  \n",
              "75%         0.000000e+00  \n",
              "max         2.400000e+01  "
            ],
            "text/html": [
              "\n",
              "  <div id=\"df-dd9fe43d-26f4-42cc-a1e8-2685a6acc199\">\n",
              "    <div class=\"colab-df-container\">\n",
              "      <div>\n",
              "<style scoped>\n",
              "    .dataframe tbody tr th:only-of-type {\n",
              "        vertical-align: middle;\n",
              "    }\n",
              "\n",
              "    .dataframe tbody tr th {\n",
              "        vertical-align: top;\n",
              "    }\n",
              "\n",
              "    .dataframe thead th {\n",
              "        text-align: right;\n",
              "    }\n",
              "</style>\n",
              "<table border=\"1\" class=\"dataframe\">\n",
              "  <thead>\n",
              "    <tr style=\"text-align: right;\">\n",
              "      <th></th>\n",
              "      <th>Severity</th>\n",
              "      <th>Start_Lat</th>\n",
              "      <th>Start_Lng</th>\n",
              "      <th>End_Lat</th>\n",
              "      <th>End_Lng</th>\n",
              "      <th>Distance(mi)</th>\n",
              "      <th>Number</th>\n",
              "      <th>Temperature(F)</th>\n",
              "      <th>Wind_Chill(F)</th>\n",
              "      <th>Humidity(%)</th>\n",
              "      <th>Pressure(in)</th>\n",
              "      <th>Visibility(mi)</th>\n",
              "      <th>Wind_Speed(mph)</th>\n",
              "      <th>Precipitation(in)</th>\n",
              "    </tr>\n",
              "  </thead>\n",
              "  <tbody>\n",
              "    <tr>\n",
              "      <th>count</th>\n",
              "      <td>2.845342e+06</td>\n",
              "      <td>2.845342e+06</td>\n",
              "      <td>2.845342e+06</td>\n",
              "      <td>2.845342e+06</td>\n",
              "      <td>2.845342e+06</td>\n",
              "      <td>2.845342e+06</td>\n",
              "      <td>1.101431e+06</td>\n",
              "      <td>2.776068e+06</td>\n",
              "      <td>2.375699e+06</td>\n",
              "      <td>2.772250e+06</td>\n",
              "      <td>2.786142e+06</td>\n",
              "      <td>2.774796e+06</td>\n",
              "      <td>2.687398e+06</td>\n",
              "      <td>2.295884e+06</td>\n",
              "    </tr>\n",
              "    <tr>\n",
              "      <th>mean</th>\n",
              "      <td>2.137572e+00</td>\n",
              "      <td>3.624520e+01</td>\n",
              "      <td>-9.711463e+01</td>\n",
              "      <td>3.624532e+01</td>\n",
              "      <td>-9.711439e+01</td>\n",
              "      <td>7.026779e-01</td>\n",
              "      <td>8.089408e+03</td>\n",
              "      <td>6.179356e+01</td>\n",
              "      <td>5.965823e+01</td>\n",
              "      <td>6.436545e+01</td>\n",
              "      <td>2.947234e+01</td>\n",
              "      <td>9.099391e+00</td>\n",
              "      <td>7.395044e+00</td>\n",
              "      <td>7.016940e-03</td>\n",
              "    </tr>\n",
              "    <tr>\n",
              "      <th>std</th>\n",
              "      <td>4.787216e-01</td>\n",
              "      <td>5.363797e+00</td>\n",
              "      <td>1.831782e+01</td>\n",
              "      <td>5.363873e+00</td>\n",
              "      <td>1.831763e+01</td>\n",
              "      <td>1.560361e+00</td>\n",
              "      <td>1.836009e+04</td>\n",
              "      <td>1.862263e+01</td>\n",
              "      <td>2.116097e+01</td>\n",
              "      <td>2.287457e+01</td>\n",
              "      <td>1.045286e+00</td>\n",
              "      <td>2.717546e+00</td>\n",
              "      <td>5.527454e+00</td>\n",
              "      <td>9.348831e-02</td>\n",
              "    </tr>\n",
              "    <tr>\n",
              "      <th>min</th>\n",
              "      <td>1.000000e+00</td>\n",
              "      <td>2.456603e+01</td>\n",
              "      <td>-1.245481e+02</td>\n",
              "      <td>2.456601e+01</td>\n",
              "      <td>-1.245457e+02</td>\n",
              "      <td>0.000000e+00</td>\n",
              "      <td>0.000000e+00</td>\n",
              "      <td>-8.900000e+01</td>\n",
              "      <td>-8.900000e+01</td>\n",
              "      <td>1.000000e+00</td>\n",
              "      <td>0.000000e+00</td>\n",
              "      <td>0.000000e+00</td>\n",
              "      <td>0.000000e+00</td>\n",
              "      <td>0.000000e+00</td>\n",
              "    </tr>\n",
              "    <tr>\n",
              "      <th>25%</th>\n",
              "      <td>2.000000e+00</td>\n",
              "      <td>3.344517e+01</td>\n",
              "      <td>-1.180331e+02</td>\n",
              "      <td>3.344628e+01</td>\n",
              "      <td>-1.180333e+02</td>\n",
              "      <td>5.200000e-02</td>\n",
              "      <td>1.270000e+03</td>\n",
              "      <td>5.000000e+01</td>\n",
              "      <td>4.600000e+01</td>\n",
              "      <td>4.800000e+01</td>\n",
              "      <td>2.931000e+01</td>\n",
              "      <td>1.000000e+01</td>\n",
              "      <td>3.500000e+00</td>\n",
              "      <td>0.000000e+00</td>\n",
              "    </tr>\n",
              "    <tr>\n",
              "      <th>50%</th>\n",
              "      <td>2.000000e+00</td>\n",
              "      <td>3.609861e+01</td>\n",
              "      <td>-9.241808e+01</td>\n",
              "      <td>3.609799e+01</td>\n",
              "      <td>-9.241772e+01</td>\n",
              "      <td>2.440000e-01</td>\n",
              "      <td>4.007000e+03</td>\n",
              "      <td>6.400000e+01</td>\n",
              "      <td>6.300000e+01</td>\n",
              "      <td>6.700000e+01</td>\n",
              "      <td>2.982000e+01</td>\n",
              "      <td>1.000000e+01</td>\n",
              "      <td>7.000000e+00</td>\n",
              "      <td>0.000000e+00</td>\n",
              "    </tr>\n",
              "    <tr>\n",
              "      <th>75%</th>\n",
              "      <td>2.000000e+00</td>\n",
              "      <td>4.016024e+01</td>\n",
              "      <td>-8.037243e+01</td>\n",
              "      <td>4.016105e+01</td>\n",
              "      <td>-8.037338e+01</td>\n",
              "      <td>7.640000e-01</td>\n",
              "      <td>9.567000e+03</td>\n",
              "      <td>7.600000e+01</td>\n",
              "      <td>7.600000e+01</td>\n",
              "      <td>8.300000e+01</td>\n",
              "      <td>3.001000e+01</td>\n",
              "      <td>1.000000e+01</td>\n",
              "      <td>1.000000e+01</td>\n",
              "      <td>0.000000e+00</td>\n",
              "    </tr>\n",
              "    <tr>\n",
              "      <th>max</th>\n",
              "      <td>4.000000e+00</td>\n",
              "      <td>4.900058e+01</td>\n",
              "      <td>-6.711317e+01</td>\n",
              "      <td>4.907500e+01</td>\n",
              "      <td>-6.710924e+01</td>\n",
              "      <td>1.551860e+02</td>\n",
              "      <td>9.999997e+06</td>\n",
              "      <td>1.960000e+02</td>\n",
              "      <td>1.960000e+02</td>\n",
              "      <td>1.000000e+02</td>\n",
              "      <td>5.890000e+01</td>\n",
              "      <td>1.400000e+02</td>\n",
              "      <td>1.087000e+03</td>\n",
              "      <td>2.400000e+01</td>\n",
              "    </tr>\n",
              "  </tbody>\n",
              "</table>\n",
              "</div>\n",
              "      <button class=\"colab-df-convert\" onclick=\"convertToInteractive('df-dd9fe43d-26f4-42cc-a1e8-2685a6acc199')\"\n",
              "              title=\"Convert this dataframe to an interactive table.\"\n",
              "              style=\"display:none;\">\n",
              "        \n",
              "  <svg xmlns=\"http://www.w3.org/2000/svg\" height=\"24px\"viewBox=\"0 0 24 24\"\n",
              "       width=\"24px\">\n",
              "    <path d=\"M0 0h24v24H0V0z\" fill=\"none\"/>\n",
              "    <path d=\"M18.56 5.44l.94 2.06.94-2.06 2.06-.94-2.06-.94-.94-2.06-.94 2.06-2.06.94zm-11 1L8.5 8.5l.94-2.06 2.06-.94-2.06-.94L8.5 2.5l-.94 2.06-2.06.94zm10 10l.94 2.06.94-2.06 2.06-.94-2.06-.94-.94-2.06-.94 2.06-2.06.94z\"/><path d=\"M17.41 7.96l-1.37-1.37c-.4-.4-.92-.59-1.43-.59-.52 0-1.04.2-1.43.59L10.3 9.45l-7.72 7.72c-.78.78-.78 2.05 0 2.83L4 21.41c.39.39.9.59 1.41.59.51 0 1.02-.2 1.41-.59l7.78-7.78 2.81-2.81c.8-.78.8-2.07 0-2.86zM5.41 20L4 18.59l7.72-7.72 1.47 1.35L5.41 20z\"/>\n",
              "  </svg>\n",
              "      </button>\n",
              "      \n",
              "  <style>\n",
              "    .colab-df-container {\n",
              "      display:flex;\n",
              "      flex-wrap:wrap;\n",
              "      gap: 12px;\n",
              "    }\n",
              "\n",
              "    .colab-df-convert {\n",
              "      background-color: #E8F0FE;\n",
              "      border: none;\n",
              "      border-radius: 50%;\n",
              "      cursor: pointer;\n",
              "      display: none;\n",
              "      fill: #1967D2;\n",
              "      height: 32px;\n",
              "      padding: 0 0 0 0;\n",
              "      width: 32px;\n",
              "    }\n",
              "\n",
              "    .colab-df-convert:hover {\n",
              "      background-color: #E2EBFA;\n",
              "      box-shadow: 0px 1px 2px rgba(60, 64, 67, 0.3), 0px 1px 3px 1px rgba(60, 64, 67, 0.15);\n",
              "      fill: #174EA6;\n",
              "    }\n",
              "\n",
              "    [theme=dark] .colab-df-convert {\n",
              "      background-color: #3B4455;\n",
              "      fill: #D2E3FC;\n",
              "    }\n",
              "\n",
              "    [theme=dark] .colab-df-convert:hover {\n",
              "      background-color: #434B5C;\n",
              "      box-shadow: 0px 1px 3px 1px rgba(0, 0, 0, 0.15);\n",
              "      filter: drop-shadow(0px 1px 2px rgba(0, 0, 0, 0.3));\n",
              "      fill: #FFFFFF;\n",
              "    }\n",
              "  </style>\n",
              "\n",
              "      <script>\n",
              "        const buttonEl =\n",
              "          document.querySelector('#df-dd9fe43d-26f4-42cc-a1e8-2685a6acc199 button.colab-df-convert');\n",
              "        buttonEl.style.display =\n",
              "          google.colab.kernel.accessAllowed ? 'block' : 'none';\n",
              "\n",
              "        async function convertToInteractive(key) {\n",
              "          const element = document.querySelector('#df-dd9fe43d-26f4-42cc-a1e8-2685a6acc199');\n",
              "          const dataTable =\n",
              "            await google.colab.kernel.invokeFunction('convertToInteractive',\n",
              "                                                     [key], {});\n",
              "          if (!dataTable) return;\n",
              "\n",
              "          const docLinkHtml = 'Like what you see? Visit the ' +\n",
              "            '<a target=\"_blank\" href=https://colab.research.google.com/notebooks/data_table.ipynb>data table notebook</a>'\n",
              "            + ' to learn more about interactive tables.';\n",
              "          element.innerHTML = '';\n",
              "          dataTable['output_type'] = 'display_data';\n",
              "          await google.colab.output.renderOutput(dataTable, element);\n",
              "          const docLink = document.createElement('div');\n",
              "          docLink.innerHTML = docLinkHtml;\n",
              "          element.appendChild(docLink);\n",
              "        }\n",
              "      </script>\n",
              "    </div>\n",
              "  </div>\n",
              "  "
            ]
          },
          "metadata": {},
          "execution_count": 10
        }
      ],
      "source": [
        "df.describe()"
      ]
    },
    {
      "cell_type": "code",
      "execution_count": 11,
      "metadata": {
        "colab": {
          "base_uri": "https://localhost:8080/"
        },
        "id": "VY06MtLb-WT8",
        "outputId": "59a253e9-13e6-4b18-8e93-2c3d5121cd8b"
      },
      "outputs": [
        {
          "output_type": "execute_result",
          "data": {
            "text/plain": [
              "14"
            ]
          },
          "metadata": {},
          "execution_count": 11
        }
      ],
      "source": [
        "numerics = ['int16', 'int32', 'int64', 'float16', 'float32', 'float64']\n",
        "\n",
        "numeric_df = df.select_dtypes(include=numerics)\n",
        "len(numeric_df.columns)"
      ]
    },
    {
      "cell_type": "code",
      "execution_count": 12,
      "metadata": {
        "colab": {
          "base_uri": "https://localhost:8080/"
        },
        "id": "P-DxObWa-WRP",
        "outputId": "ecfb6185-c546-443f-fe16-68a5788eff0e"
      },
      "outputs": [
        {
          "output_type": "execute_result",
          "data": {
            "text/plain": [
              "Number                   6.129003e-01\n",
              "Precipitation(in)        1.931079e-01\n",
              "Wind_Chill(F)            1.650568e-01\n",
              "Wind_Speed(mph)          5.550967e-02\n",
              "Wind_Direction           2.592834e-02\n",
              "Humidity(%)              2.568830e-02\n",
              "Weather_Condition        2.482514e-02\n",
              "Visibility(mi)           2.479350e-02\n",
              "Temperature(F)           2.434646e-02\n",
              "Pressure(in)             2.080593e-02\n",
              "Weather_Timestamp        1.783125e-02\n",
              "Airport_Code             3.356011e-03\n",
              "Timezone                 1.285961e-03\n",
              "Nautical_Twilight        1.007612e-03\n",
              "Civil_Twilight           1.007612e-03\n",
              "Sunrise_Sunset           1.007612e-03\n",
              "Astronomical_Twilight    1.007612e-03\n",
              "Zipcode                  4.635647e-04\n",
              "City                     4.814887e-05\n",
              "Street                   7.029032e-07\n",
              "Country                  0.000000e+00\n",
              "Junction                 0.000000e+00\n",
              "Start_Time               0.000000e+00\n",
              "End_Time                 0.000000e+00\n",
              "Start_Lat                0.000000e+00\n",
              "Turning_Loop             0.000000e+00\n",
              "Traffic_Signal           0.000000e+00\n",
              "Traffic_Calming          0.000000e+00\n",
              "Stop                     0.000000e+00\n",
              "Station                  0.000000e+00\n",
              "Roundabout               0.000000e+00\n",
              "Railway                  0.000000e+00\n",
              "No_Exit                  0.000000e+00\n",
              "Crossing                 0.000000e+00\n",
              "Give_Way                 0.000000e+00\n",
              "Bump                     0.000000e+00\n",
              "Amenity                  0.000000e+00\n",
              "Start_Lng                0.000000e+00\n",
              "End_Lat                  0.000000e+00\n",
              "End_Lng                  0.000000e+00\n",
              "Distance(mi)             0.000000e+00\n",
              "Description              0.000000e+00\n",
              "Severity                 0.000000e+00\n",
              "Side                     0.000000e+00\n",
              "County                   0.000000e+00\n",
              "State                    0.000000e+00\n",
              "ID                       0.000000e+00\n",
              "dtype: float64"
            ]
          },
          "metadata": {},
          "execution_count": 12
        }
      ],
      "source": [
        "# Percentage of missing values per column\n",
        "missing_percentages = df.isna().sum().sort_values(ascending=False) / len(df)\n",
        "missing_percentages"
      ]
    },
    {
      "cell_type": "code",
      "execution_count": 13,
      "metadata": {
        "colab": {
          "base_uri": "https://localhost:8080/"
        },
        "id": "u7UxjIoqBARH",
        "outputId": "15653aa9-f7fa-400f-b280-ac49b31ac80a"
      },
      "outputs": [
        {
          "output_type": "execute_result",
          "data": {
            "text/plain": [
              "pandas.core.series.Series"
            ]
          },
          "metadata": {},
          "execution_count": 13
        }
      ],
      "source": [
        "type(missing_percentages)"
      ]
    },
    {
      "cell_type": "code",
      "execution_count": 14,
      "metadata": {
        "colab": {
          "base_uri": "https://localhost:8080/",
          "height": 283
        },
        "id": "ID8Rs0RJ93Lf",
        "outputId": "4dd8c276-210a-4a9f-a60c-70cd7e347cfb"
      },
      "outputs": [
        {
          "output_type": "execute_result",
          "data": {
            "text/plain": [
              "<Axes: >"
            ]
          },
          "metadata": {},
          "execution_count": 14
        },
        {
          "output_type": "display_data",
          "data": {
            "text/plain": [
              "<Figure size 432x288 with 1 Axes>"
            ],
            "image/png": "[encoded data removed]"
          },
          "metadata": {
            "needs_background": "light"
          }
        }
      ],
      "source": [
        "missing_percentages[missing_percentages != 0].plot(kind='barh')"
      ]
    },
    {
      "cell_type": "markdown",
      "metadata": {
        "id": "RvM47Xfp7X36"
      },
      "source": [
        "## Exploratory Analysis and Visualization\n",
        "\n",
        "Columns we'll analyze:\n",
        "\n",
        "1. City\n",
        "2. Start Time\n",
        "3. Start Lat, Start Lng\n",
        "4. Temperature\n",
        "5. Weather Condition"
      ]
    },
    {
      "cell_type": "code",
      "execution_count": 15,
      "metadata": {
        "colab": {
          "base_uri": "https://localhost:8080/"
        },
        "id": "uiEYZ3Q9B44q",
        "outputId": "9b3cf3fe-702a-47b7-8125-b1fdca6448eb"
      },
      "outputs": [
        {
          "output_type": "execute_result",
          "data": {
            "text/plain": [
              "Index(['ID', 'Severity', 'Start_Time', 'End_Time', 'Start_Lat', 'Start_Lng',\n",
              "       'End_Lat', 'End_Lng', 'Distance(mi)', 'Description', 'Number', 'Street',\n",
              "       'Side', 'City', 'County', 'State', 'Zipcode', 'Country', 'Timezone',\n",
              "       'Airport_Code', 'Weather_Timestamp', 'Temperature(F)', 'Wind_Chill(F)',\n",
              "       'Humidity(%)', 'Pressure(in)', 'Visibility(mi)', 'Wind_Direction',\n",
              "       'Wind_Speed(mph)', 'Precipitation(in)', 'Weather_Condition', 'Amenity',\n",
              "       'Bump', 'Crossing', 'Give_Way', 'Junction', 'No_Exit', 'Railway',\n",
              "       'Roundabout', 'Station', 'Stop', 'Traffic_Calming', 'Traffic_Signal',\n",
              "       'Turning_Loop', 'Sunrise_Sunset', 'Civil_Twilight', 'Nautical_Twilight',\n",
              "       'Astronomical_Twilight'],\n",
              "      dtype='object')"
            ]
          },
          "metadata": {},
          "execution_count": 15
        }
      ],
      "source": [
        "df.columns"
      ]
    },
    {
      "cell_type": "markdown",
      "metadata": {
        "id": "3rz2quexIZac"
      },
      "source": [
        "### City"
      ]
    },
    {
      "cell_type": "code",
      "execution_count": 16,
      "metadata": {
        "colab": {
          "base_uri": "https://localhost:8080/"
        },
        "id": "gcdVkqfpB4oK",
        "outputId": "0ef9cdb9-b94c-4ca0-9c76-ff3c729570f5"
      },
      "outputs": [
        {
          "output_type": "execute_result",
          "data": {
            "text/plain": [
              "0               Dublin\n",
              "1               Dayton\n",
              "2           Cincinnati\n",
              "3                Akron\n",
              "4           Cincinnati\n",
              "              ...     \n",
              "2845337      Riverside\n",
              "2845338      San Diego\n",
              "2845339         Orange\n",
              "2845340    Culver City\n",
              "2845341       Highland\n",
              "Name: City, Length: 2845342, dtype: object"
            ]
          },
          "metadata": {},
          "execution_count": 16
        }
      ],
      "source": [
        "df.City"
      ]
    },
    {
      "cell_type": "code",
      "execution_count": 17,
      "metadata": {
        "colab": {
          "base_uri": "https://localhost:8080/"
        },
        "id": "lK5ve5iWB4lI",
        "outputId": "b66f6d62-3ec5-4f3a-81dc-542d98c2aea8"
      },
      "outputs": [
        {
          "output_type": "execute_result",
          "data": {
            "text/plain": [
              "11682"
            ]
          },
          "metadata": {},
          "execution_count": 17
        }
      ],
      "source": [
        "cities = df.City.unique()\n",
        "len(cities)"
      ]
    },
    {
      "cell_type": "code",
      "execution_count": 18,
      "metadata": {
        "colab": {
          "base_uri": "https://localhost:8080/"
        },
        "id": "LmgK4XQ0B4dy",
        "outputId": "cc28e99c-4bff-49c9-b26c-c8d33b80824c"
      },
      "outputs": [
        {
          "output_type": "execute_result",
          "data": {
            "text/plain": [
              "Miami                           106966\n",
              "Los Angeles                      68956\n",
              "Orlando                          54691\n",
              "Dallas                           41979\n",
              "Houston                          39448\n",
              "                                 ...  \n",
              "Ridgedale                            1\n",
              "Sekiu                                1\n",
              "Wooldridge                           1\n",
              "Bullock                              1\n",
              "American Fork-Pleasant Grove         1\n",
              "Name: City, Length: 11681, dtype: int64"
            ]
          },
          "metadata": {},
          "execution_count": 18
        }
      ],
      "source": [
        "# Counting no. of accidents in each city\n",
        "cities_by_accident = df.City.value_counts()\n",
        "cities_by_accident"
      ]
    },
    {
      "cell_type": "code",
      "execution_count": 19,
      "metadata": {
        "colab": {
          "base_uri": "https://localhost:8080/"
        },
        "id": "X0nan3xu7Vtq",
        "outputId": "6728281f-393a-4721-882e-146568deac18"
      },
      "outputs": [
        {
          "output_type": "execute_result",
          "data": {
            "text/plain": [
              "Miami           106966\n",
              "Los Angeles      68956\n",
              "Orlando          54691\n",
              "Dallas           41979\n",
              "Houston          39448\n",
              "Charlotte        33152\n",
              "Sacramento       32559\n",
              "San Diego        26627\n",
              "Raleigh          22840\n",
              "Minneapolis      22768\n",
              "Portland         20944\n",
              "Nashville        20267\n",
              "Austin           18301\n",
              "Baton Rouge      18182\n",
              "Phoenix          17143\n",
              "Saint Paul       16869\n",
              "New Orleans      16251\n",
              "Atlanta          15622\n",
              "Jacksonville     14967\n",
              "Richmond         14349\n",
              "Name: City, dtype: int64"
            ]
          },
          "metadata": {},
          "execution_count": 19
        }
      ],
      "source": [
        "cities_by_accident[:20]"
      ]
    },
    {
      "cell_type": "code",
      "source": [
        "'New York' in df.City"
      ],
      "metadata": {
        "colab": {
          "base_uri": "https://localhost:8080/"
        },
        "id": "SN-7N0ZVfqrl",
        "outputId": "9d788711-3ee9-423d-8d84-8027ad7ae1c9"
      },
      "execution_count": 20,
      "outputs": [
        {
          "output_type": "execute_result",
          "data": {
            "text/plain": [
              "False"
            ]
          },
          "metadata": {},
          "execution_count": 20
        }
      ]
    },
    {
      "cell_type": "code",
      "source": [
        "'NY' in df.State"
      ],
      "metadata": {
        "colab": {
          "base_uri": "https://localhost:8080/"
        },
        "id": "nIDJC_Fif1WV",
        "outputId": "24fa9906-e691-4a08-d1f6-7b800424e175"
      },
      "execution_count": 21,
      "outputs": [
        {
          "output_type": "execute_result",
          "data": {
            "text/plain": [
              "False"
            ]
          },
          "metadata": {},
          "execution_count": 21
        }
      ]
    },
    {
      "cell_type": "code",
      "execution_count": 22,
      "metadata": {
        "colab": {
          "base_uri": "https://localhost:8080/"
        },
        "id": "5FLQkPvZFuF8",
        "outputId": "afd24121-922a-48ec-af24-8ddc75c3d37b"
      },
      "outputs": [
        {
          "output_type": "execute_result",
          "data": {
            "text/plain": [
              "pandas.core.series.Series"
            ]
          },
          "metadata": {},
          "execution_count": 22
        }
      ],
      "source": [
        "type(cities_by_accident)"
      ]
    },
    {
      "cell_type": "code",
      "execution_count": 23,
      "metadata": {
        "colab": {
          "base_uri": "https://localhost:8080/",
          "height": 283
        },
        "id": "uq4X__76EvDy",
        "outputId": "c0af7f5c-a3da-4e73-b570-3608a755fdd3"
      },
      "outputs": [
        {
          "output_type": "execute_result",
          "data": {
            "text/plain": [
              "<Axes: >"
            ]
          },
          "metadata": {},
          "execution_count": 23
        },
        {
          "output_type": "display_data",
          "data": {
            "text/plain": [
              "<Figure size 432x288 with 1 Axes>"
            ],
            "image/png": "[encoded data removed]"
          },
          "metadata": {
            "needs_background": "light"
          }
        }
      ],
      "source": [
        "cities_by_accident[:20].plot(kind='barh')"
      ]
    },
    {
      "cell_type": "code",
      "execution_count": 24,
      "metadata": {
        "id": "IarEBz5OEvAn"
      },
      "outputs": [],
      "source": [
        "import seaborn as sns\n",
        "sns.set_style(\"darkgrid\")"
      ]
    },
    {
      "cell_type": "code",
      "execution_count": 25,
      "metadata": {
        "colab": {
          "base_uri": "https://localhost:8080/",
          "height": 301
        },
        "id": "kCuWqfPCFnSu",
        "outputId": "830854cd-b3a6-4e71-eaf3-b0d80bebe0a0"
      },
      "outputs": [
        {
          "output_type": "execute_result",
          "data": {
            "text/plain": [
              "<Axes: xlabel='City', ylabel='Count'>"
            ]
          },
          "metadata": {},
          "execution_count": 25
        },
        {
          "output_type": "display_data",
          "data": {
            "text/plain": [
              "<Figure size 432x288 with 1 Axes>"
            ],
            "image/png": "[encoded data removed]"
          },
          "metadata": {}
        }
      ],
      "source": [
        "sns.histplot(cities_by_accident, log_scale=True)\n",
        "#sns.despine()"
      ]
    },
    {
      "cell_type": "code",
      "execution_count": 26,
      "metadata": {
        "colab": {
          "base_uri": "https://localhost:8080/"
        },
        "id": "j8GBvN1XHeKL",
        "outputId": "f9a9bc46-6200-4aea-bf04-956ccfeb99e5"
      },
      "outputs": [
        {
          "output_type": "execute_result",
          "data": {
            "text/plain": [
              "Carney                          1\n",
              "Waverly Hall                    1\n",
              "Center Sandwich                 1\n",
              "Glen Flora                      1\n",
              "Sulphur Springs                 1\n",
              "                               ..\n",
              "Ridgedale                       1\n",
              "Sekiu                           1\n",
              "Wooldridge                      1\n",
              "Bullock                         1\n",
              "American Fork-Pleasant Grove    1\n",
              "Name: City, Length: 1110, dtype: int64"
            ]
          },
          "metadata": {},
          "execution_count": 26
        }
      ],
      "source": [
        "cities_by_accident[cities_by_accident == 1]"
      ]
    },
    {
      "cell_type": "code",
      "source": [
        "high_accident_cities = cities_by_accident[cities_by_accident >= 1000]\n",
        "low_accident_cities = cities_by_accident[cities_by_accident < 1000]\n"
      ],
      "metadata": {
        "id": "QzB8SVkYj5Un"
      },
      "execution_count": 27,
      "outputs": []
    },
    {
      "cell_type": "code",
      "source": [
        "percent_high_accident_cities = (len(high_accident_cities)/len(cities)) * 100\n",
        "percent_high_accident_cities"
      ],
      "metadata": {
        "colab": {
          "base_uri": "https://localhost:8080/"
        },
        "id": "oQfeef05kYg-",
        "outputId": "a4b59fd2-ba69-4970-e9bd-c6fd3c09254a"
      },
      "execution_count": 28,
      "outputs": [
        {
          "output_type": "execute_result",
          "data": {
            "text/plain": [
              "4.245848313644924"
            ]
          },
          "metadata": {},
          "execution_count": 28
        }
      ]
    },
    {
      "cell_type": "markdown",
      "metadata": {
        "id": "23vI2-8iIUui"
      },
      "source": [
        "### Start Time"
      ]
    },
    {
      "cell_type": "code",
      "execution_count": 29,
      "metadata": {
        "colab": {
          "base_uri": "https://localhost:8080/"
        },
        "id": "juz0_WHIILWU",
        "outputId": "140ed888-d56d-4f45-aa35-064370adbf64"
      },
      "outputs": [
        {
          "output_type": "execute_result",
          "data": {
            "text/plain": [
              "0          2016-02-08 00:37:08\n",
              "1          2016-02-08 05:56:20\n",
              "2          2016-02-08 06:15:39\n",
              "3          2016-02-08 06:51:45\n",
              "4          2016-02-08 07:53:43\n",
              "                  ...         \n",
              "2845337    2019-08-23 18:03:25\n",
              "2845338    2019-08-23 19:11:30\n",
              "2845339    2019-08-23 19:00:21\n",
              "2845340    2019-08-23 19:00:21\n",
              "2845341    2019-08-23 18:52:06\n",
              "Name: Start_Time, Length: 2845342, dtype: object"
            ]
          },
          "metadata": {},
          "execution_count": 29
        }
      ],
      "source": [
        "df.Start_Time"
      ]
    },
    {
      "cell_type": "code",
      "execution_count": 30,
      "metadata": {
        "id": "a7R3_lA2ILTc"
      },
      "outputs": [],
      "source": [
        "df.Start_Time = pd.to_datetime(df.Start_Time)"
      ]
    },
    {
      "cell_type": "code",
      "source": [
        "df.Start_Time"
      ],
      "metadata": {
        "colab": {
          "base_uri": "https://localhost:8080/"
        },
        "id": "TZtKO3kRmaFP",
        "outputId": "fbc2c8cc-c76a-4fea-eba3-af87c4582ba6"
      },
      "execution_count": 31,
      "outputs": [
        {
          "output_type": "execute_result",
          "data": {
            "text/plain": [
              "0         2016-02-08 00:37:08\n",
              "1         2016-02-08 05:56:20\n",
              "2         2016-02-08 06:15:39\n",
              "3         2016-02-08 06:51:45\n",
              "4         2016-02-08 07:53:43\n",
              "                  ...        \n",
              "2845337   2019-08-23 18:03:25\n",
              "2845338   2019-08-23 19:11:30\n",
              "2845339   2019-08-23 19:00:21\n",
              "2845340   2019-08-23 19:00:21\n",
              "2845341   2019-08-23 18:52:06\n",
              "Name: Start_Time, Length: 2845342, dtype: datetime64[ns]"
            ]
          },
          "metadata": {},
          "execution_count": 31
        }
      ]
    },
    {
      "cell_type": "markdown",
      "metadata": {
        "id": "Ir0pHVurKpNe"
      },
      "source": [
        "- Figure out how to show percentages"
      ]
    },
    {
      "cell_type": "code",
      "execution_count": 32,
      "metadata": {
        "colab": {
          "base_uri": "https://localhost:8080/",
          "height": 499
        },
        "id": "V_XF4vTdHeHb",
        "outputId": "ff374afb-493d-42d9-d3a3-b61aec75d1c5"
      },
      "outputs": [
        {
          "output_type": "stream",
          "name": "stderr",
          "text": [
            "<ipython-input-32-e5e5cc3d114e>:1: UserWarning: \n",
            "\n",
            "`distplot` is a deprecated function and will be removed in seaborn v0.14.0.\n",
            "\n",
            "Please adapt your code to use either `displot` (a figure-level function with\n",
            "similar flexibility) or `histplot` (an axes-level function for histograms).\n",
            "\n",
            "For a guide to updating your code to use the new functions, please see\n",
            "https://gist.github.com/mwaskom/de44147ed2974457ad6372750bbe5751\n",
            "\n",
            "  sns.distplot(df.Start_Time.dt.hour, bins=24, kde=False, norm_hist=True)\n"
          ]
        },
        {
          "output_type": "execute_result",
          "data": {
            "text/plain": [
              "<Axes: xlabel='Start_Time'>"
            ]
          },
          "metadata": {},
          "execution_count": 32
        },
        {
          "output_type": "display_data",
          "data": {
            "text/plain": [
              "<Figure size 432x288 with 1 Axes>"
            ],
            "image/png": "[encoded data removed]"
          },
          "metadata": {}
        }
      ],
      "source": [
        "sns.distplot(df.Start_Time.dt.hour, bins=24, kde=False, norm_hist=True)\n",
        "# bins = 24 (for 24 hours)"
      ]
    },
    {
      "cell_type": "markdown",
      "metadata": {
        "id": "i6RsW8PZK1nY"
      },
      "source": [
        "- A high percentage of accidents occur between 12 pm to 6 pm\n",
        "- Next highest percentage is 6 am to 10 am."
      ]
    },
    {
      "cell_type": "code",
      "execution_count": 33,
      "metadata": {
        "colab": {
          "base_uri": "https://localhost:8080/",
          "height": 499
        },
        "id": "adct6zrOJS4j",
        "outputId": "319b536a-b20f-4124-ce9a-d9f3e685c170"
      },
      "outputs": [
        {
          "output_type": "stream",
          "name": "stderr",
          "text": [
            "<ipython-input-33-019c7ea578c3>:1: UserWarning: \n",
            "\n",
            "`distplot` is a deprecated function and will be removed in seaborn v0.14.0.\n",
            "\n",
            "Please adapt your code to use either `displot` (a figure-level function with\n",
            "similar flexibility) or `histplot` (an axes-level function for histograms).\n",
            "\n",
            "For a guide to updating your code to use the new functions, please see\n",
            "https://gist.github.com/mwaskom/de44147ed2974457ad6372750bbe5751\n",
            "\n",
            "  sns.distplot(df.Start_Time.dt.dayofweek, bins=7, kde=False, norm_hist=True)\n"
          ]
        },
        {
          "output_type": "execute_result",
          "data": {
            "text/plain": [
              "<Axes: xlabel='Start_Time'>"
            ]
          },
          "metadata": {},
          "execution_count": 33
        },
        {
          "output_type": "display_data",
          "data": {
            "text/plain": [
              "<Figure size 432x288 with 1 Axes>"
            ],
            "image/png": "[encoded data removed]"
          },
          "metadata": {}
        }
      ],
      "source": [
        "sns.distplot(df.Start_Time.dt.dayofweek, bins=7, kde=False, norm_hist=True)"
      ]
    },
    {
      "cell_type": "code",
      "execution_count": 34,
      "metadata": {
        "colab": {
          "base_uri": "https://localhost:8080/",
          "height": 499
        },
        "id": "BJiZUABzJS16",
        "outputId": "878ae7ee-6000-4898-c4be-dbc842a985da"
      },
      "outputs": [
        {
          "output_type": "stream",
          "name": "stderr",
          "text": [
            "<ipython-input-34-6d10f1b09e8f>:2: UserWarning: \n",
            "\n",
            "`distplot` is a deprecated function and will be removed in seaborn v0.14.0.\n",
            "\n",
            "Please adapt your code to use either `displot` (a figure-level function with\n",
            "similar flexibility) or `histplot` (an axes-level function for histograms).\n",
            "\n",
            "For a guide to updating your code to use the new functions, please see\n",
            "https://gist.github.com/mwaskom/de44147ed2974457ad6372750bbe5751\n",
            "\n",
            "  sns.distplot(sundays_start_time.dt.hour, bins=24, kde=False, norm_hist=True)\n"
          ]
        },
        {
          "output_type": "execute_result",
          "data": {
            "text/plain": [
              "<Axes: xlabel='Start_Time'>"
            ]
          },
          "metadata": {},
          "execution_count": 34
        },
        {
          "output_type": "display_data",
          "data": {
            "text/plain": [
              "<Figure size 432x288 with 1 Axes>"
            ],
            "image/png": "[encoded data removed]"
          },
          "metadata": {}
        }
      ],
      "source": [
        "sundays_start_time = df.Start_Time[df.Start_Time.dt.dayofweek == 6]\n",
        "sns.distplot(sundays_start_time.dt.hour, bins=24, kde=False, norm_hist=True)"
      ]
    },
    {
      "cell_type": "code",
      "execution_count": 35,
      "metadata": {
        "colab": {
          "base_uri": "https://localhost:8080/",
          "height": 499
        },
        "id": "q4AEgnRKEAMS",
        "outputId": "5dd22f87-af0d-48f0-e4c5-44284a1342c8"
      },
      "outputs": [
        {
          "output_type": "stream",
          "name": "stderr",
          "text": [
            "<ipython-input-35-a0c386feb2b8>:2: UserWarning: \n",
            "\n",
            "`distplot` is a deprecated function and will be removed in seaborn v0.14.0.\n",
            "\n",
            "Please adapt your code to use either `displot` (a figure-level function with\n",
            "similar flexibility) or `histplot` (an axes-level function for histograms).\n",
            "\n",
            "For a guide to updating your code to use the new functions, please see\n",
            "https://gist.github.com/mwaskom/de44147ed2974457ad6372750bbe5751\n",
            "\n",
            "  sns.distplot(monday_start_time.dt.hour, bins=24, kde=False, norm_hist=True)\n"
          ]
        },
        {
          "output_type": "execute_result",
          "data": {
            "text/plain": [
              "<Axes: xlabel='Start_Time'>"
            ]
          },
          "metadata": {},
          "execution_count": 35
        },
        {
          "output_type": "display_data",
          "data": {
            "text/plain": [
              "<Figure size 432x288 with 1 Axes>"
            ],
            "image/png": "[encoded data removed]"
          },
          "metadata": {}
        }
      ],
      "source": [
        "monday_start_time = df.Start_Time[df.Start_Time.dt.dayofweek == 0]\n",
        "sns.distplot(monday_start_time.dt.hour, bins=24, kde=False, norm_hist=True)"
      ]
    },
    {
      "cell_type": "markdown",
      "metadata": {
        "id": "JwEdvO-oMt6h"
      },
      "source": [
        "*  On Sundays, the peak occurs between 11 am and 9 pm, unlike weekdays"
      ]
    },
    {
      "cell_type": "code",
      "execution_count": 36,
      "metadata": {
        "colab": {
          "base_uri": "https://localhost:8080/",
          "height": 502
        },
        "id": "8_7EG-PmNEAM",
        "outputId": "3d0cb1c3-9726-4e1a-d29d-c96da9f57e14"
      },
      "outputs": [
        {
          "output_type": "stream",
          "name": "stderr",
          "text": [
            "<ipython-input-36-3426e032809c>:2: UserWarning: \n",
            "\n",
            "`distplot` is a deprecated function and will be removed in seaborn v0.14.0.\n",
            "\n",
            "Please adapt your code to use either `displot` (a figure-level function with\n",
            "similar flexibility) or `histplot` (an axes-level function for histograms).\n",
            "\n",
            "For a guide to updating your code to use the new functions, please see\n",
            "https://gist.github.com/mwaskom/de44147ed2974457ad6372750bbe5751\n",
            "\n",
            "  sns.distplot(df_2021.Start_Time.dt.month, bins=12, kde=False, norm_hist=True)\n"
          ]
        },
        {
          "output_type": "execute_result",
          "data": {
            "text/plain": [
              "<Axes: xlabel='Start_Time'>"
            ]
          },
          "metadata": {},
          "execution_count": 36
        },
        {
          "output_type": "display_data",
          "data": {
            "text/plain": [
              "<Figure size 432x288 with 1 Axes>"
            ],
            "image/png": "[encoded data removed]"
          },
          "metadata": {}
        }
      ],
      "source": [
        "df_2021 = df[df.Start_Time.dt.year == 2021]\n",
        "sns.distplot(df_2021.Start_Time.dt.month, bins=12, kde=False, norm_hist=True)"
      ]
    },
    {
      "cell_type": "markdown",
      "metadata": {
        "id": "8zGtl75mNd2d"
      },
      "source": [
        "- Much data is missing for 2016. Maybe even 2017."
      ]
    },
    {
      "cell_type": "markdown",
      "metadata": {
        "id": "uxJ8j-L3Pips"
      },
      "source": [
        "### Start Latitude & Longitude\n"
      ]
    },
    {
      "cell_type": "code",
      "execution_count": 37,
      "metadata": {
        "colab": {
          "base_uri": "https://localhost:8080/"
        },
        "id": "SaHT2yIhPhqs",
        "outputId": "11e46f12-8de7-42e6-9030-c2ba1113d64f"
      },
      "outputs": [
        {
          "output_type": "execute_result",
          "data": {
            "text/plain": [
              "0          40.108910\n",
              "1          39.865420\n",
              "2          39.102660\n",
              "3          41.062130\n",
              "4          39.172393\n",
              "             ...    \n",
              "2845337    34.002480\n",
              "2845338    32.766960\n",
              "2845339    33.775450\n",
              "2845340    33.992460\n",
              "2845341    34.133930\n",
              "Name: Start_Lat, Length: 2845342, dtype: float64"
            ]
          },
          "metadata": {},
          "execution_count": 37
        }
      ],
      "source": [
        "df.Start_Lat"
      ]
    },
    {
      "cell_type": "code",
      "execution_count": 38,
      "metadata": {
        "colab": {
          "base_uri": "https://localhost:8080/"
        },
        "id": "OACwujEyPhn_",
        "outputId": "e124c0fe-a77f-48ea-e262-3f777baea398"
      },
      "outputs": [
        {
          "output_type": "execute_result",
          "data": {
            "text/plain": [
              "0          -83.092860\n",
              "1          -84.062800\n",
              "2          -84.524680\n",
              "3          -81.537840\n",
              "4          -84.492792\n",
              "              ...    \n",
              "2845337   -117.379360\n",
              "2845338   -117.148060\n",
              "2845339   -117.847790\n",
              "2845340   -118.403020\n",
              "2845341   -117.230920\n",
              "Name: Start_Lng, Length: 2845342, dtype: float64"
            ]
          },
          "metadata": {},
          "execution_count": 38
        }
      ],
      "source": [
        "df.Start_Lng"
      ]
    },
    {
      "cell_type": "code",
      "execution_count": 39,
      "metadata": {
        "id": "4tEvL_RQPhlq"
      },
      "outputs": [],
      "source": [
        "# Using only 10% of dataset\n",
        "sample_df = df.sample(int(0.1 * len(df)))"
      ]
    },
    {
      "cell_type": "code",
      "execution_count": 40,
      "metadata": {
        "colab": {
          "base_uri": "https://localhost:8080/",
          "height": 300
        },
        "id": "gkh8yL4UPhi-",
        "outputId": "27d7455a-4ed6-43dd-ab1c-d233f821bde0"
      },
      "outputs": [
        {
          "output_type": "execute_result",
          "data": {
            "text/plain": [
              "<Axes: xlabel='Start_Lng', ylabel='Start_Lat'>"
            ]
          },
          "metadata": {},
          "execution_count": 40
        },
        {
          "output_type": "display_data",
          "data": {
            "text/plain": [
              "<Figure size 432x288 with 1 Axes>"
            ],
            "image/png": "[encoded data removed]"
          },
          "metadata": {}
        }
      ],
      "source": [
        "sns.scatterplot(x=sample_df.Start_Lng, y=sample_df.Start_Lat, size=0.001)"
      ]
    },
    {
      "cell_type": "code",
      "execution_count": 41,
      "metadata": {
        "id": "2b_dBVyR7EHl"
      },
      "outputs": [],
      "source": [
        "import folium"
      ]
    },
    {
      "cell_type": "code",
      "execution_count": 42,
      "metadata": {
        "colab": {
          "base_uri": "https://localhost:8080/"
        },
        "id": "vuLp9BOxRLci",
        "outputId": "adb2b18b-94fa-4dd0-adcf-d7f85bc13a07"
      },
      "outputs": [
        {
          "output_type": "execute_result",
          "data": {
            "text/plain": [
              "(40.10891, -83.09286)"
            ]
          },
          "metadata": {},
          "execution_count": 42
        }
      ],
      "source": [
        "lat, lon = df.Start_Lat[0], df.Start_Lng[0]\n",
        "lat, lon"
      ]
    },
    {
      "cell_type": "code",
      "execution_count": 43,
      "metadata": {
        "colab": {
          "base_uri": "https://localhost:8080/"
        },
        "id": "Y8ZNqcFVRt81",
        "outputId": "8bd4d41c-bc9a-4c25-df03-05c179eb514b"
      },
      "outputs": [
        {
          "output_type": "stream",
          "name": "stdout",
          "text": [
            "142405     39.712248\n",
            "1950456    42.408569\n",
            "399464     33.965759\n",
            "280155     33.505547\n",
            "458762     33.182094\n",
            "             ...    \n",
            "2399685    40.764900\n",
            "724494     25.627093\n",
            "2822086    42.368720\n",
            "36499      39.000970\n",
            "1315399    35.134216\n",
            "Name: Start_Lat, Length: 100, dtype: float64\n",
            "142405    -121.798069\n",
            "1950456    -83.079480\n",
            "399464    -118.164984\n",
            "280155    -112.146786\n",
            "458762    -117.301231\n",
            "              ...    \n",
            "2399685   -111.991590\n",
            "724494     -80.384890\n",
            "2822086    -88.169410\n",
            "36499      -76.398530\n",
            "1315399    -80.978403\n",
            "Name: Start_Lng, Length: 100, dtype: float64\n"
          ]
        }
      ],
      "source": [
        "for x in df[['Start_Lat', 'Start_Lng']].sample(100).iteritems():\n",
        "    print(x[1])"
      ]
    },
    {
      "cell_type": "code",
      "execution_count": 44,
      "metadata": {
        "colab": {
          "base_uri": "https://localhost:8080/"
        },
        "id": "d1vWEMf-Sxeq",
        "outputId": "d12f087a-6195-4d9f-87ee-33aebfbf9a91"
      },
      "outputs": [
        {
          "output_type": "execute_result",
          "data": {
            "text/plain": [
              "<zip at 0x7f071455bd00>"
            ]
          },
          "metadata": {},
          "execution_count": 44
        }
      ],
      "source": [
        "# Gives list of pair\n",
        "zip(list(df.Start_Lat), list(df.Start_Lng))"
      ]
    },
    {
      "cell_type": "code",
      "execution_count": 45,
      "metadata": {
        "id": "ODtfSEc6TN7B"
      },
      "outputs": [],
      "source": [
        "from folium.plugins import HeatMap"
      ]
    },
    {
      "cell_type": "code",
      "execution_count": 46,
      "metadata": {
        "id": "vDG1zJnzTbW2"
      },
      "outputs": [],
      "source": [
        "# using only 0.1% of the data\n",
        "sample_df = df.sample(int(0.001 * len(df)))\n",
        "lat_lon_pairs = list(zip(list(sample_df.Start_Lat), list(sample_df.Start_Lng)))"
      ]
    },
    {
      "cell_type": "code",
      "execution_count": 47,
      "metadata": {
        "colab": {
          "base_uri": "https://localhost:8080/",
          "height": 689
        },
        "id": "hJ2mH2FiQ8Wf",
        "outputId": "72838c8d-ffc4-471c-b410-d4eab9e422c8"
      },
      "outputs": [
        {
          "output_type": "execute_result",
          "data": {
            "text/plain": [
              "<folium.folium.Map at 0x7f06e99c8cd0>"
            ],
            "text/html": [
              "<div style=\"width:100%;\"><div style=\"position:relative;width:100%;height:0;padding-bottom:60%;\"><span style=\"color:#565656\">Make this Notebook Trusted to load map: File -> Trust Notebook</span><iframe srcdoc=\"&lt;!DOCTYPE html&gt;\n",
              "&lt;html&gt;\n",
              "&lt;head&gt;\n",
              "    \n",
              "    &lt;meta http-equiv=&quot;content-type&quot; content=&quot;text/html; charset=UTF-8&quot; /&gt;\n",
              "    \n",
              "        &lt;script&gt;\n",
              "            L_NO_TOUCH = false;\n",
              "            L_DISABLE_3D = false;\n",
              "        &lt;/script&gt;\n",
              "    \n",
              "    &lt;style&gt;html, body {width: 100%;height: 100%;margin: 0;padding: 0;}&lt;/style&gt;\n",
              "    &lt;style&gt;#map {position:absolute;top:0;bottom:0;right:0;left:0;}&lt;/style&gt;\n",
              "    &lt;script src=&quot;https://cdn.jsdelivr.net/npm/leaflet@1.9.3/dist/leaflet.js&quot;&gt;&lt;/script&gt;\n",
              "    &lt;script src=&quot;https://code.jquery.com/jquery-1.12.4.min.js&quot;&gt;&lt;/script&gt;\n",
              "    &lt;script src=&quot;https://cdn.jsdelivr.net/npm/bootstrap@5.2.2/dist/js/bootstrap.bundle.min.js&quot;&gt;&lt;/script&gt;\n",
              "    &lt;script src=&quot;https://cdnjs.cloudflare.com/ajax/libs/Leaflet.awesome-markers/2.0.2/leaflet.awesome-markers.js&quot;&gt;&lt;/script&gt;\n",
              "    &lt;link rel=&quot;stylesheet&quot; href=&quot;https://cdn.jsdelivr.net/npm/leaflet@1.9.3/dist/leaflet.css&quot;/&gt;\n",
              "    &lt;link rel=&quot;stylesheet&quot; href=&quot;https://cdn.jsdelivr.net/npm/bootstrap@5.2.2/dist/css/bootstrap.min.css&quot;/&gt;\n",
              "    &lt;link rel=&quot;stylesheet&quot; href=&quot;https://netdna.bootstrapcdn.com/bootstrap/3.0.0/css/bootstrap.min.css&quot;/&gt;\n",
              "    &lt;link rel=&quot;stylesheet&quot; href=&quot;https://cdn.jsdelivr.net/npm/@fortawesome/fontawesome-free@6.2.0/css/all.min.css&quot;/&gt;\n",
              "    &lt;link rel=&quot;stylesheet&quot; href=&quot;https://cdnjs.cloudflare.com/ajax/libs/Leaflet.awesome-markers/2.0.2/leaflet.awesome-markers.css&quot;/&gt;\n",
              "    &lt;link rel=&quot;stylesheet&quot; href=&quot;https://cdn.jsdelivr.net/gh/python-visualization/folium/folium/templates/leaflet.awesome.rotate.min.css&quot;/&gt;\n",
              "    \n",
              "            &lt;meta name=&quot;viewport&quot; content=&quot;width=device-width,\n",
              "                initial-scale=1.0, maximum-scale=1.0, user-scalable=no&quot; /&gt;\n",
              "            &lt;style&gt;\n",
              "                #map_ae5a836785600b381758e14d807bae4c {\n",
              "                    position: relative;\n",
              "                    width: 100.0%;\n",
              "                    height: 100.0%;\n",
              "                    left: 0.0%;\n",
              "                    top: 0.0%;\n",
              "                }\n",
              "                .leaflet-container { font-size: 1rem; }\n",
              "            &lt;/style&gt;\n",
              "        \n",
              "    &lt;script src=&quot;https://cdn.jsdelivr.net/gh/python-visualization/folium@main/folium/templates/leaflet_heat.min.js&quot;&gt;&lt;/script&gt;\n",
              "&lt;/head&gt;\n",
              "&lt;body&gt;\n",
              "    \n",
              "    \n",
              "            &lt;div class=&quot;folium-map&quot; id=&quot;map_ae5a836785600b381758e14d807bae4c&quot; &gt;&lt;/div&gt;\n",
              "        \n",
              "&lt;/body&gt;\n",
              "&lt;script&gt;\n",
              "    \n",
              "    \n",
              "            var map_ae5a836785600b381758e14d807bae4c = L.map(\n",
              "                &quot;map_ae5a836785600b381758e14d807bae4c&quot;,\n",
              "                {\n",
              "                    center: [0, 0],\n",
              "                    crs: L.CRS.EPSG3857,\n",
              "                    zoom: 1,\n",
              "                    zoomControl: true,\n",
              "                    preferCanvas: false,\n",
              "                }\n",
              "            );\n",
              "\n",
              "            \n",
              "\n",
              "        \n",
              "    \n",
              "            var tile_layer_9d3316776e4d469fee57205d1c7e5968 = L.tileLayer(\n",
              "                &quot;https://{s}.tile.openstreetmap.org/{z}/{x}/{y}.png&quot;,\n",
              "                {&quot;attribution&quot;: &quot;Data by \\u0026copy; \\u003ca target=\\&quot;_blank\\&quot; href=\\&quot;http://openstreetmap.org\\&quot;\\u003eOpenStreetMap\\u003c/a\\u003e, under \\u003ca target=\\&quot;_blank\\&quot; href=\\&quot;http://www.openstreetmap.org/copyright\\&quot;\\u003eODbL\\u003c/a\\u003e.&quot;, &quot;detectRetina&quot;: false, &quot;maxNativeZoom&quot;: 18, &quot;maxZoom&quot;: 18, &quot;minZoom&quot;: 0, &quot;noWrap&quot;: false, &quot;opacity&quot;: 1, &quot;subdomains&quot;: &quot;abc&quot;, &quot;tms&quot;: false}\n",
              "            ).addTo(map_ae5a836785600b381758e14d807bae4c);\n",
              "        \n",
              "    \n",
              "            var heat_map_c826b37bb6ff22bf3e87ec080edae20c = L.heatLayer(\n",
              "                [[25.652692, -80.330122], [32.192189, -110.860645], [27.236319, -82.501178], [42.593146, -123.387628], [33.192903, -117.245623], [34.13217, -117.94976], [39.840663, -110.78065], [34.06434, -118.25069], [30.143027000000004, -85.72148100000003], [30.447714, -84.262389], [34.073057, -117.393455], [37.940465, -122.324404], [46.71585200000001, -113.531073], [35.835367, -78.646067], [43.11467, -77.6162], [39.89838, -86.05184], [27.448188, -82.54669399999999], [44.90355, -93.27472], [41.514681, -72.790173], [34.729017, -114.316595], [37.023157, -120.074334], [34.509333000000005, -118.111938], [33.97432, -118.12412], [39.232567, -121.660116], [36.22842, -86.77278000000004], [39.941956, -74.994132], [35.59458, -97.54935], [42.33215, -88.12384], [40.42751, -111.88669], [40.07183300000001, -76.333771], [33.614109, -81.681143], [40.27180300000001, -74.079544], [38.799537, -77.550934], [38.345021, -122.713111], [25.87242, -80.20888000000002], [35.90470399999999, -84.151228], [25.902592, -80.176378], [44.90178, -124.00731], [35.061999, -82.368142], [37.822977, -121.992691], [32.5464, -84.96085], [28.568286, -81.262362], [44.61523, -121.94779], [33.508657, -112.06282], [40.260587, -76.097535], [40.930057, -73.85109200000002], [38.487414, -85.77166899999997], [37.710392, -77.44782], [45.316147, -122.911329], [30.020227, -90.114487], [35.215515, -80.779051], [38.688396, -121.401352], [39.630305, -75.74368199999998], [33.284851, -111.124273], [33.93457, -118.17695], [33.82806, -118.28611], [37.610782, -120.97533500000002], [34.86672, -81.985969], [33.857353, -117.979373], [42.686752, -73.805841], [39.270619, -76.65645], [34.025292, -118.27561], [35.524316, -82.596841], [25.900112, -80.18693], [36.139944, -85.428496], [35.106851, -80.764967], [38.90344, -77.02032], [40.683242, -75.289059], [25.876984, -80.323554], [29.78461, -95.26477], [32.850358, -96.683224], [32.365585, -86.283293], [29.74058, -95.36522], [32.93523, -96.37897], [37.363599, -122.062975], [40.372683, -76.680481], [42.912887, -85.534089], [33.952459999999995, -118.36938], [33.567333000000005, -79.03752800000002], [30.429995, -91.056638], [38.021159, -121.325212], [42.470537, -73.611198], [39.27092, -76.6447], [40.257345, -75.26053399999998], [43.64117, -94.99063], [40.811473, -78.031243], [28.451716, -81.47766800000002], [33.143746, -117.07828], [36.839086, -76.04938800000002], [40.439773, -79.760616], [44.282333, -121.770434], [40.987704, -73.670486], [43.090507, -73.530114], [35.383246, -119.074105], [25.747361, -80.221828], [28.03198, -82.738289], [34.022864, -118.16898700000002], [28.290084000000004, -81.321777], [32.34839, -95.3056], [33.66792, -117.81774], [40.729976, -74.133238], [43.300112, -122.940949], [33.90189, -118.28636000000002], [44.21787, -93.52947], [34.066984000000005, -112.148325], [33.938203, -83.464135], [32.749735, -96.891403], [34.018896000000005, -117.539684], [33.686281, -84.306753], [28.407709000000004, -81.450789], [33.119078, -117.320389], [34.03325, -118.13003799999998], [40.922666, -73.820883], [33.76713400000001, -117.834104], [42.94807700000001, -83.47102], [40.736049, -111.94917], [29.436496, -98.504277], [38.64563, -121.37758999999998], [40.443891, -80.00913299999998], [33.877127, -118.28517], [36.634157, -111.651209], [42.70223, -71.21016999999998], [28.391753, -81.409266], [33.933, -118.018457], [42.44629000000001, -83.20518100000002], [33.000236, -117.08236], [36.336346, -119.421406], [33.407887, -86.97306400000002], [40.117578, -75.35072199999998], [41.54975, -87.33646999999998], [30.445022, -91.090335], [45.599742, -118.501045], [35.713079, -78.627144], [36.771114, -119.762485], [36.140601, -86.732024], [38.643068, -121.121166], [33.86056, -118.31343], [40.703067, -75.28995400000002], [36.15300300000001, -86.633477], [42.426121, -123.16457], [34.158556, -118.605826], [38.424505, -77.41969499999998], [40.10650800000001, -75.164454], [32.83782, -117.152087], [43.87844000000001, -70.33301], [25.840245, -80.317802], [38.75413, -121.26404], [30.424112, -91.104296], [39.885542, -83.044772], [28.796298, -81.345323], [40.2258, -111.67709], [25.939703, -80.188672], [25.8466, -80.38754], [28.492772, -81.39675600000002], [38.922069, -104.719715], [39.989837, -76.25654300000002], [37.40399, -77.67041], [35.952056, -78.68731899999999], [30.477371999999995, -81.644715], [44.534744, -121.175605], [43.126584, -122.132338], [44.945192, -123.040102], [36.375567, -119.026897], [36.533176, -121.845935], [39.66395, -104.92307], [34.065288, -117.317172], [39.029485, -77.006721], [34.99739, -85.23402800000002], [40.931561, -73.762399], [34.887871000000004, -82.179709], [27.606164, -82.497807], [39.693712, -84.21705899999998], [36.92803, -120.83781], [36.410284, -119.80538500000002], [36.666704, -121.628047], [25.732097, -80.33571500000002], [33.48024, -111.987], [35.503268, -79.286073], [33.89956, -117.47298], [30.18621, -97.609515], [36.970848, -113.722923], [41.5781, -87.64711], [33.965226, -118.165048], [32.833703, -96.815267], [26.70731, -80.13368], [28.039737, -80.659593], [37.492064, -121.947898], [37.586923, -77.476606], [41.19556, -75.79313], [41.061562, -73.859227], [25.687904, -80.335325], [34.634483, -118.15301399999998], [40.825656, -73.931218], [40.84005, -73.92905999999998], [33.632511, -78.95893000000002], [36.119055, -95.860183], [34.159482000000004, -118.265681], [38.127633, -79.033831], [35.196727, -80.73943], [44.86493400000001, -122.701588], [33.854001000000004, -117.959244], [28.038261, -82.034561], [32.738170000000004, -117.05481], [30.320775, -81.688448], [47.57169, -122.33987], [33.900601, -118.105279], [25.922226, -80.24441999999998], [37.034632, -76.351176], [34.77254600000001, -82.36106], [40.85838, -73.97826500000002], [34.319402000000004, -118.484404], [27.996069, -82.453587], [33.990928000000004, -80.980466], [36.076026, -79.258308], [44.890962, -93.399485], [32.739539, -96.823337], [37.54362, -105.019951], [40.730307, -74.04283000000002], [34.267191, -116.852309], [33.88043, -118.10388], [41.41393, -87.32135], [36.546561, -80.746048], [34.79735, -92.23835], [32.442188, -93.742668], [25.656273, -80.414084], [37.34871500000001, -77.405238], [25.89991400000001, -80.16134100000002], [38.632621, -120.566055], [32.814878, -96.866217], [40.7105, -73.98465999999998], [33.998311, -118.36536], [29.784749, -95.683346], [32.72746, -96.70441], [34.019433, -117.485057], [35.12183, -80.85443000000002], [39.86271, -83.00421999999998], [34.207473, -118.217564], [40.83686, -111.93445], [41.098748, -74.03745500000002], [46.903905, -95.059339], [33.927575, -118.256905], [47.30307, -122.30235], [34.066385, -117.471004], [34.04696, -118.44679], [39.736382, -105.014249], [41.82117, -71.4203], [37.678033, -121.913567], [43.62598, -89.80488000000004], [40.844517, -73.837276], [29.944182, -90.08928], [35.032247, -81.738855], [33.531208, -112.159371], [32.33371, -90.16439], [35.25265, -118.860542], [34.924285999999995, -82.305049], [35.20316, -80.74471700000002], [34.733495, -92.161115], [29.93857, -82.563854], [25.750446, -80.351748], [33.84172, -84.30886], [32.717124, -83.528097], [39.831031, -76.830575], [35.781703, -78.585739], [25.921574, -80.203057], [39.738509, -84.142719], [38.876513, -76.990957], [30.635909, -84.934607], [33.960012, -118.284774], [33.71155, -84.44369], [37.20836, -93.303318], [33.234984999999995, -84.822576], [32.911555, -96.878314], [44.95552, -93.27018], [40.776776, -74.201799], [35.8917, -119.37558500000002], [38.345557, -104.620002], [28.44986, -81.363887], [27.044518, -82.229401], [28.450188, -81.401903], [30.457155, -87.224417], [34.88669, -82.33053199999998], [28.367622, -81.335037], [33.604754, -117.69048], [28.567799, -82.558933], [45.493644, -122.67365], [40.82448, -81.39652], [28.66544600000001, -81.418981], [25.784275, -80.235716], [37.20487, -93.344062], [30.14599, -96.070521], [46.67325, -92.99209], [29.51607000000001, -98.45654], [41.10694, -84.38054], [39.632517, -77.963847], [41.77106, -72.678347], [42.91672, -85.666172], [37.690867, -122.470568], [37.776936, -122.236798], [33.538284999999995, -112.108244], [38.29122, -90.40419], [33.409173, -111.972656], [27.446268, -82.505514], [39.273644, -76.621087], [40.245455, -76.882921], [33.998554, -118.147262], [40.610772, -77.214564], [33.85412, -117.95422], [45.514442, -122.700986], [37.850376, -121.44951299999998], [33.287753, -80.375727], [45.3623, -118.00272], [35.610694, -78.565919], [45.635807, -121.945603], [40.131985, -79.591786], [37.69085, -122.08481], [35.41161, -119.028643], [37.729293, -122.138475], [34.21455, -118.23269], [34.02024, -118.18843], [33.71791, -84.238668], [34.135449, -117.979158], [38.57404, -121.383648], [35.17647, -80.88606999999998], [34.649398, -92.417578], [36.681012, -119.745307], [34.774654, -82.389709], [33.282727, -86.800392], [27.093931, -82.155376], [25.73417, -80.302918], [33.916412, -118.29172], [34.081596000000005, -117.722253], [37.953205, -79.208651], [42.608131, -83.96947], [39.761468, -105.688584], [30.04363, -89.96506], [39.390751, -119.757728], [44.26967, -93.29578], [38.39705, -112.65711], [32.258045, -90.210171], [32.64236, -96.81563], [28.398038, -80.704934], [36.84043, -76.021045], [29.81378, -95.36564], [44.89438, -93.0662], [38.837497, -77.089327], [45.54178, -122.86696], [35.24767999999999, -80.89624], [44.24186, -69.80779], [41.14251, -73.42695], [35.404942, -119.033358], [34.117799, -118.337568], [29.785190000000004, -95.774204], [44.630501, -93.514246], [33.822571, -118.290336], [36.137071, -86.726744], [33.730806, -117.39884], [38.496178, -121.436801], [34.349986, -118.504275], [28.56519, -81.18235], [33.984651, -118.13362], [37.552072, -77.47760500000003], [32.882333, -96.77053], [41.0535, -73.809619], [44.62964, -122.987823], [39.38785, -76.43985], [33.385469, -111.926581], [38.19815, -85.70397], [33.84956, -118.274902], [41.014151, -73.711026], [35.784605, -78.702031], [42.99662, -114.39525], [27.09952, -82.203376], [39.15193, -77.22005], [25.670913, -80.415251], [37.31903, -121.90189], [37.568186, -122.342649], [45.636192, -122.863032], [45.12456, -93.48329], [45.42683, -123.82422], [37.783227, -121.217417], [36.254768, -119.80878], [36.109433, -86.728122], [28.02444, -80.57427], [40.655497, -121.323791], [45.50725900000001, -122.719605], [42.48376, -83.085105], [34.10561, -118.25444], [37.53565, -122.07478], [28.4869, -81.42589], [40.642484, -74.207667], [32.96918, -81.764987], [36.969164, -121.96738899999998], [34.007163, -117.419138], [34.878387, -82.361339], [25.69564, -80.30109200000003], [46.700917, -92.316881], [39.96764500000001, -76.750596], [37.344611, -120.613004], [42.719303, -73.371895], [42.22875, -87.979254], [27.962366, -82.45330799999998], [27.447441, -82.52181800000002], [40.748139, -73.967889], [28.526269, -81.524273], [29.78731, -95.24278], [44.86225, -93.24403], [34.205471, -118.473247], [31.777119, -106.432871], [33.986495, -118.398274], [42.229031, -83.693064], [29.678042, -95.328166], [40.820249, -73.836246], [28.081059000000003, -80.672612], [44.966668, -93.088999], [27.64397, -80.51975999999998], [40.24493, -75.59704], [41.99504, -87.86606], [34.117709000000005, -117.848206], [45.358644, -122.61601], [32.875225, -117.199456], [27.935155, -82.79588299999998], [46.848829, -94.969408], [34.948325, -82.488237], [32.69123, -117.11858], [39.89700300000001, -75.189227], [40.05197800000001, -75.557237], [36.988032, -121.984792], [32.718229, -117.093587], [41.178334, -73.175865], [26.638594, -80.173898], [39.5982, -119.78058], [43.022042, -123.924504], [38.23332, -122.61806], [37.68617, -77.452308], [25.78473, -80.36859], [33.916923, -118.04780900000002], [29.211875, -82.058004], [33.869046999999995, -117.75333], [35.5447, -82.91095], [46.317291, -112.765893], [34.004728, -118.172799], [30.446742, -91.180054], [38.171825, -79.17746600000002], [39.6024, -75.94589599999998], [40.810239, -76.86444], [40.841381, -73.93183], [37.78534000000001, -122.192441], [34.152713, -118.100206], [39.869064, -76.699528], [40.74318, -74.15639], [37.453944, -119.644368], [39.44568, -87.226331], [32.899506, -96.898136], [34.268513, -118.435117], [25.866933, -80.32499], [35.119543, -81.08303199999997], [27.996178000000004, -82.533792], [26.547751, -81.777589], [33.336191, -86.936181], [38.71303, -75.90885], [34.136185, -117.410935], [41.527974, -72.800045], [27.516342, -80.448406], [29.952954, -90.075314], [34.138711, -118.364396], [39.521685, -119.974561], [35.41767, -78.46248800000002], [41.114814, -73.806761], [35.11192, -89.86994], [26.76293, -80.09254], [41.052228, -73.810476], [39.17304, -84.47589], [40.994485, -74.176986], [45.762679, -111.168858], [28.665, -82.14517], [37.70092800000001, -121.922118], [32.79456, -96.723004], [32.721867, -117.143419], [37.693222, -122.052515], [40.655424, -74.28712], [33.601031, -111.89164], [39.440048, -74.539693], [33.719775, -117.795048], [42.739766, -73.685506], [38.943863, -120.776215], [28.067193, -82.74188000000002], [37.701719, -121.887656], [33.65073, -80.88349000000002], [30.758746, -85.807868], [40.4358, -75.42453], [40.741377, -73.237723], [32.395319, -111.012835], [34.129362, -118.473789], [38.794409, -77.053674], [38.751412, -120.777765], [44.994329, -92.960218], [45.66774, -118.79559], [25.630882, -80.38252800000002], [40.850635, -73.947097], [34.025476, -118.205711], [39.367221, -76.747967], [34.025518, -118.205694], [42.34144600000001, -83.117021], [42.973339, -115.203573], [25.687938, -80.41644000000002], [36.413296, -94.216958], [33.937615, -117.123581], [37.766654, -121.332212], [25.935213, -80.162502], [39.93054, -86.14809], [38.358904, -81.640618], [33.888955, -117.069431], [36.809705, -81.65039], [28.50548400000001, -81.422415], [36.87463, -76.19738000000002], [44.56394, -123.23693], [45.226558, -93.612575], [38.52854, -121.46971], [36.06031, -95.895652], [41.949502, -71.483863], [33.289365000000004, -117.225368], [28.449406, -81.40097800000002], [30.71761, -88.08312], [41.80697, -72.62105], [42.331277, -121.957715], [42.26913, -88.03372], [42.506294, -83.44631], [33.579894, -86.709777], [34.061341, -117.78928], [41.14838, -74.188066], [39.00617, -77.03883], [38.87343, -77.22048000000002], [39.590031, -76.071069], [33.760309, -117.862308], [41.697262, -72.550556], [26.5273, -81.87114], [45.006723, -93.457125], [40.580738, -122.360712], [37.831856, -77.967022], [30.32123, -81.77032], [34.114104, -118.482173], [41.682032, -124.113847], [40.694408, -73.811898], [44.62683, -123.06226], [39.2436, -76.51031], [37.627376, -122.081256], [36.114438, -86.926537], [42.912954, -85.66265200000002], [36.30052, -86.71106], [37.56034, -122.0349], [28.44618, -81.47417], [36.101164, -86.800467], [29.547, -98.489211], [41.14714, -96.15838], [33.937651, -118.094171], [46.051715, -112.753511], [34.06837, -118.04224], [38.833268, -77.095538], [34.068453000000005, -117.374697], [32.893441, -117.117422], [38.088213, -99.893913], [33.97693, -118.075847], [25.770822, -80.33653100000002], [33.517431, -117.664228], [38.61208, -121.53845], [37.681211, -97.313551], [47.100199, -122.4349], [35.23086, -80.85994000000002], [35.297266, -79.15064], [38.335721, -75.103234], [33.907949, -81.224626], [33.547422999999995, -117.672872], [25.926283, -80.29332600000002], [33.930890000000005, -118.31344], [34.892647, -82.293689], [33.5466, -86.78307], [33.98258, -84.34175], [33.734024, -84.23092199999998], [39.77012, -104.99179], [38.502364, -122.858574], [39.21661, -76.6566], [35.0845, -85.06364], [45.701934, -120.33176], [45.752338, -93.160511], [42.545725, -79.114683], [41.323066, -73.65834100000002], [40.73122, -74.05026], [33.68821, -117.91469], [33.812515999999995, -117.888888], [33.991023, -117.937886], [38.84007, -94.70512], [33.88414, -118.02911], [42.77739, -123.28311], [45.36567, -93.960303], [33.735036, -117.833582], [40.783235, -74.137355], [39.507647, -77.584613], [34.22716, -118.186545], [26.5453, -81.852391], [27.042461, -82.217967], [33.596245, -113.535901], [32.771254, -96.623007], [32.92803, -80.626544], [26.121435, -80.184322], [45.68013300000001, -108.715027], [25.706561, -80.285439], [34.023408, -117.750424], [40.988084, -73.66721700000002], [39.134442, -122.776805], [27.01240300000001, -80.214843], [37.47829, -120.958198], [38.995443, -77.077086], [39.44204000000001, -76.364574], [40.884136, -111.89649], [29.410496, -98.435064], [27.543232, -82.476606], [29.97565, -90.05753299999998], [25.769466, -80.33815899999998], [41.88642700000001, -87.96168], [26.146076, -80.451217], [33.670869, -117.084821], [28.027248, -82.168894], [34.003581, -118.152271], [39.759495, -84.264838], [29.434272, -98.49757], [36.951765, -120.053663], [35.368672, -118.945287], [29.858196000000003, -95.376287], [40.99189000000001, -73.67716], [28.145668, -81.45571], [32.694357000000004, -117.129524], [35.761957, -78.744989], [41.285473, -72.977027], [32.76102, -84.019932], [33.692576, -117.339049], [42.973117, -85.6926], [40.420471, -80.049208], [30.220796000000004, -81.571087], [42.806054, -74.018467], [36.930633, -113.82837], [42.198633, -79.83795500000002], [33.818144000000004, -117.876163], [38.792845, -121.294691], [34.835264, -78.977426], [38.88164, -121.97404], [34.564065, -82.898481], [39.94169, -74.94904], [33.517207, -80.904383], [25.690561, -80.38215100000002], [34.06645, -118.01802], [30.48479600000001, -88.375107], [25.693312, -80.284982], [32.31174, -86.222615], [32.914642, -96.767578], [34.068077, -118.028838], [44.965937, -93.279325], [33.823128000000004, -118.299177], [34.030449, -117.67476299999998], [29.77852, -95.36855], [34.236006, -118.926379], [40.181026, -75.091656], [33.902002, -118.116638], [25.930242, -80.30974499999998], [39.000134, -77.080146], [30.378282, -86.386888], [40.68767, -74.58035], [39.65869, -75.75159000000002], [34.017651, -118.180029], [26.70676, -80.11117], [38.790397, -77.167816], [28.370523, -81.330395], [27.381662, -82.538697], [37.542203, -121.270684], [33.930913000000004, -118.17868], [33.673564, -117.886115], [44.22125, -123.06094], [26.10626, -80.16851700000002], [33.386517, -111.587716], [34.018947, -118.176901], [39.768801, -105.447882], [44.05907, -93.250118], [43.175098, -77.607614], [42.659132, -122.708209], [42.25879000000001, -88.13953000000002], [33.770242, -111.924234], [43.02017, -87.96965], [41.87365, -71.51543000000002], [33.1935, -117.365112], [34.03667, -118.2887], [40.110684, -76.205554], [41.128213, -92.566253], [40.735749, -73.858841], [39.015565, -77.119952], [38.693708, -121.758588], [32.474719, -93.798078], [27.63461, -80.51603], [33.941171000000004, -117.236343], [34.032071, -118.218995], [40.110858, -76.110244], [27.846694, -82.76228], [28.087956, -82.461743], [42.925186, -83.616462], [27.793742, -82.334978], [39.015704, -77.041619], [26.099342, -80.250016], [39.756078, -86.194525], [27.95556400000001, -82.484746], [47.573343, -122.686439], [33.929234, -118.001142], [36.930596, -76.406869], [33.460782, -112.444134], [25.687406, -80.355165], [42.7268, -73.79861], [28.32900200000001, -81.590836], [36.845237, -76.28235600000002], [44.970845, -93.28739], [36.075405, -95.895908], [29.77164, -95.20094], [39.72565, -105.02054], [32.136451, -110.911631], [40.158443, -78.91252], [39.431693, -77.48886800000002], [33.856639, -118.028723], [35.06042, -80.81295], [25.76379, -80.281701], [34.215526000000004, -119.013154], [47.660226, -114.069558], [44.787021, -93.410278], [42.15571, -122.64615], [29.858749, -95.258685], [40.013358, -76.726295], [37.873399, -122.30597], [37.066775, -121.218262], [32.74651, -117.19138], [33.871216, -118.394856], [34.06824, -117.97781], [38.563847, -121.636669], [38.02149, -78.42555], [38.781407, -76.837859], [28.3751, -82.6578], [37.023507, -80.730575], [40.048032, -78.55045], [32.88924, -96.96092], [37.336596, -121.85723], [39.276026, -121.651321], [40.865369, -74.42548599999998], [35.842484000000006, -78.679789], [36.608541, -121.922505], [28.553182, -81.366816], [37.799862, -121.17998], [34.149769, -118.100149], [36.069869, -90.779615], [38.892998, -77.428562], [33.02753, -96.990061], [41.24395, -73.68849], [28.60347, -81.31129200000002], [32.762597, -117.163318], [40.493017, -111.891401], [39.190944, -76.753421], [28.539863, -81.308502], [38.771481, -120.865542], [34.35858, -117.436212], [28.240472, -82.33296700000002], [39.22177, -94.6485], [40.934012, -74.140332], [29.434087, -98.395952], [40.73993400000001, -74.080586], [33.606857, -117.117577], [38.92184, -81.72267], [25.704949, -80.288921], [43.141969, -77.542866], [28.542059, -81.475741], [25.810148, -80.339283], [34.07504, -118.46846], [41.538147, -73.084506], [25.868135, -80.339101], [40.730727, -111.549478], [33.19654, -117.36762], [37.898612, -122.501325], [34.441891, -119.789224], [32.719007, -117.098902], [39.54247, -110.71651], [39.975437, -82.999938], [42.7259, -84.56614], [42.16786, -87.87392], [43.09151, -79.03315], [37.422512, -76.82924799999998], [35.779826, -78.618095], [41.98353, -87.81836], [27.140661, -82.409745], [45.673867, -94.831735], [27.447751, -82.573305], [35.0928, -81.687893], [33.91624, -118.09916], [25.88275, -80.294891], [36.761189, -119.832124], [39.763501, -104.784046], [32.76875, -96.80471], [34.172236, -79.812038], [39.964146, -76.686622], [40.696829, -74.21824000000002], [25.707363, -80.371719], [35.132725, -120.614799], [40.69656, -112.017325], [26.18858, -80.21365], [34.01685, -117.98548999999998], [26.652694, -81.915549], [38.557892, -121.386315], [25.671723, -80.38580999999998], [35.332844, -80.797554], [40.801591, -73.917109], [38.677947, -77.270022], [32.883671, -96.696224], [27.84652100000001, -82.702096], [34.235637, -118.473177], [41.98235, -87.81421], [28.048986, -82.018872], [40.49149600000001, -79.694384], [42.265514, -122.806286], [38.915341, -104.817559], [38.777379, -104.784236], [42.039095, -122.597843], [42.00445, -88.18708000000002], [36.932611, -121.775822], [33.901888, -118.285278], [40.69008, -73.55595699999998], [36.645286, -110.434431], [29.946028, -90.088542], [33.87345, -118.00971], [36.393647, -121.334083], [32.912447, -86.640668], [39.068572, -94.510362], [33.033045, -117.279149], [36.076902, -87.020658], [30.027629, -97.687998], [37.375936, -121.836228], [39.717368, -84.05348000000002], [37.68674, -121.242127], [34.00412, -117.40524], [47.63577, -122.18725], [34.174299, -118.85003600000002], [37.732129, -122.41564], [36.150734, -86.666529], [34.966586, -82.02274799999998], [40.779379, -74.046819], [43.995824, -92.484753], [30.656086, -86.878293], [36.17065, -86.516829], [33.77688, -117.83118], [39.928125, -74.95688299999998], [40.849915, -74.016147], [40.72606, -73.98352], [33.774547, -118.072032], [34.295790999999994, -117.455351], [37.92487, -77.462231], [39.737688, -77.385131], [34.485987, -118.156124], [38.910372, -77.000197], [41.23324, -73.06869], [34.753158, -82.7046], [43.593582, -116.42755], [33.373166999999995, -117.25798600000002], [35.166217, -90.17916], [44.650106, -121.120474], [40.91217, -74.26478], [43.20862, -77.46099], [38.18633, -85.7242], [34.00056, -118.28083], [46.83296, -122.31721], [25.831623, -80.337949], [39.74035, -105.048284], [33.651959999999995, -117.908592], [37.935097, -122.444517], [35.062544, -80.769856], [35.823245, -78.608785], [37.78326, -122.402702], [34.747777, -92.407165], [28.603107, -81.4063], [33.732815, -117.989278], [34.054012, -117.689253], [33.880009, -117.605278], [25.626894, -80.39497], [28.524115, -81.349522], [34.763490999999995, -82.452924], [39.849986, -74.49701], [42.72185, -123.37147], [34.992216, -120.433942], [29.749985, -95.485645], [38.87747, -77.38851], [38.4989, -90.46669], [34.13967, -80.96472], [35.33288, -80.796511], [33.760659999999994, -84.4845], [25.514438, -80.412575], [38.572569, -121.336377], [33.930963, -118.343525], [34.1708, -118.60571000000002], [41.90408, -88.12061], [35.139793, -80.87633100000002], [45.104282, -93.395212], [38.819085, -76.914542], [25.682617, -80.335435], [35.05105, -80.76961], [38.50591, -90.619772], [26.523707, -80.072988], [40.59808, -75.5642], [34.887697, -82.181529], [40.578314, -75.38802199999998], [25.939205, -80.294666], [42.739221, -86.067031], [34.789473, -82.485561], [36.689142, -119.199715], [45.16656, -117.96523], [45.094403, -93.402489], [38.05983, -122.13064], [30.013406, -95.42759], [34.867165, -82.46132800000002], [40.724767, -73.837463], [34.09955, -118.2475], [41.304121, -73.956675], [33.771632000000004, -117.870478], [45.22129, -118.01553], [34.496948, -82.148938], [34.068953, -118.042704], [33.980805, -118.256442], [44.16242, -121.25747], [40.404382, -79.599643], [26.213933, -80.13650200000002], [34.82926, -82.30323], [25.781249, -80.322446], [34.12042, -118.27126], [34.94361, -82.25431999999998], [41.23551, -73.04581], [44.86555, -93.29878], [41.81314, -88.15833], [35.54944000000001, -97.61902], [32.46076, -97.26358], [35.40089000000001, -78.52289], [37.892567, -122.307316], [37.587273, -77.571881], [38.52292, -120.715559], [33.85532, -84.24665], [29.745296000000003, -95.371592], [33.653064, -84.497534], [33.88861, -118.35795], [26.886409000000004, -80.13250699999998], [34.478296, -82.63964], [38.865571, -77.053934], [40.429325, -79.943149], [27.494171, -82.490285], [40.4114, -111.86481], [34.150822, -80.911743], [25.808947, -80.309186], [28.422651, -81.404776], [28.403789, -81.244165], [32.812246, -117.15169], [40.705294, -74.245631], [32.442, -93.750244], [47.31777, -122.29672], [36.942847, -80.918415], [45.512317, -118.431587], [39.74259, -84.20477], [26.252704, -80.136512], [25.924436, -80.30994799999998], [47.14508, -122.50811000000002], [40.837907, -74.209721], [40.685886, -73.601347], [30.32771, -81.52917], [33.50227, -117.658845], [33.808733000000004, -118.156239], [40.80660200000001, -87.14935799999998], [25.849257, -80.256225], [40.72975200000001, -74.036375], [39.221902, -78.27664399999998], [39.820235, -85.837501], [40.647557, -74.202743], [45.481997, -120.734295], [42.38213, -124.422068], [32.738023, -96.823981], [41.548535, -72.783479], [36.683916, -120.060857], [31.761173, -81.38218], [45.268709, -123.836752], [41.004592, -77.86507399999998], [37.012952, -76.456131], [34.035204, -118.328401], [31.744009, -106.332086], [39.292501, -76.74210500000002], [38.884708, -77.225479], [28.468802, -81.417358], [33.60728, -84.29536], [39.88596, -75.21067], [44.06065, -93.12561], [25.691479, -80.442352], [37.896357, -121.696306], [37.470173, -122.205652], [35.78052, -78.62224], [25.702121, -80.337124], [28.497289, -81.330923], [35.418893, -119.04958], [33.974119, -118.224181], [38.633021, -120.565627], [30.541447, -91.111943], [39.82944000000001, -104.9432], [38.018842, -121.94803799999998], [34.20221, -118.34031], [40.050816, -76.310039], [37.672138, -77.46333299999998], [34.067317, -117.544458], [26.47101, -80.174456], [40.692712, -73.855571], [45.082719, -93.402068], [35.172756, -80.810696], [32.30475, -96.58428], [34.017437, -118.052011], [44.89873, -93.134053], [25.924072, -80.15433900000002], [38.8306, -77.19676], [33.916413, -118.269564], [40.113396, -75.34988], [38.72037, -94.4523], [33.412331, -86.806701], [41.16157000000001, -85.06955400000002], [44.519644, -104.213297], [33.252004, -117.421875], [38.65640300000001, -121.366089], [38.566485, -77.336636], [40.142384, -75.001922], [41.859039, -73.52179100000002], [43.029865, -120.783232], [28.451027000000003, -81.358062], [40.95944, -73.7953], [34.275402, -118.454962], [44.76249, -93.0337], [37.978885, -121.340469], [39.788221, -86.166619], [32.78021, -97.06096], [29.833995, -95.30202], [40.092957, -75.368309], [42.73682700000001, -84.51023599999998], [30.531141, -84.57123399999998], [36.134098, -86.82528], [37.706169, -120.994748], [37.500593, -77.42815300000002], [34.113409000000004, -80.891848], [33.863361, -118.32276], [46.9201, -114.157008], [25.87242, -80.20888000000002], [45.588284, -122.545468], [30.528849, -82.90500899999998], [32.791815, -96.74946], [25.53634, -80.424978], [36.745939, -76.614053], [45.53944, -122.89388], [28.21711, -82.70711999999997], [33.982968, -118.143097], [44.848, -93.15281], [40.75574, -74.19971], [33.71408, -84.23563], [40.689979, -73.631926], [29.966987, -90.018916], [33.791212, -80.30462], [37.760816, -120.995631], [40.76063900000001, -73.95651600000002], [35.026999, -85.253573], [44.96253, -92.76897], [37.670365, -122.480727], [33.411815999999995, -80.664764], [38.43504, -88.95097], [27.388805, -82.45134], [33.970879, -117.330669], [33.727427, -117.915682], [33.890708000000004, -86.851676], [45.695925, -111.041704], [40.747636, -73.729065], [36.895124, -121.556282], [25.656381, -80.41443199999998], [38.354411, -121.97866], [34.776345, -82.391155], [38.838429, -120.039779], [44.97028, -93.25276], [32.843957, -96.765323], [35.99038200000001, -78.530204], [40.850331, -120.756831], [37.605932, -77.517911], [43.087244, -77.614564], [39.79954, -105.03024], [44.852632, -93.298033], [35.88857700000001, -86.472729], [42.81461, -85.97879], [42.33841, -83.12258], [40.006517, -75.665736], [26.564881, -81.73236899999998], [34.113619, -117.523579], [37.382764, -120.895823], [34.407486, -82.745049], [30.673087, -87.246583], [28.57101500000001, -81.452159], [32.171955, -90.132244], [41.87075, -87.87661999999996], [29.58509, -98.63733], [38.552366, -121.433815], [32.94905, -97.0323], [25.897168, -80.245937], [36.055277, -86.349429], [33.876312, -118.093308], [42.641351, -73.79843000000002], [30.28137000000001, -82.04953], [38.81979000000001, -76.89375], [45.619622, -120.739113], [34.038352, -118.0841], [25.63635, -80.335977], [28.332256, -82.699363], [43.258287, -122.174591], [38.563478, -121.341283], [40.520292, -74.294668], [46.459282, -93.515914], [40.06944, -80.90382], [36.725, -121.789444], [43.61111, -84.42902], [42.727, -73.79555], [26.171217, -80.940936], [42.89539, -73.871493], [33.96301, -118.369666], [34.069026, -117.871689], [25.782758, -80.383608], [27.948577, -82.762489], [38.81596, -90.95061], [42.99213, -83.71045], [33.4623, -80.526282], [25.926246, -80.18816600000002], [28.748956, -81.005953], [37.354701, -77.851773], [29.75201400000001, -95.378684], [41.032939, -73.75296999999998], [28.410428000000003, -81.42633199999999], [39.58566, -107.197734], [37.850641, -121.28352], [28.60873, -81.416851], [47.23992, -92.48313], [37.319029, -120.504944], [42.37738, -83.08856], [33.930854, -118.178926], [34.434490999999994, -118.382482], [33.990058000000005, -117.914572], [39.78903, -104.98891], [27.429240000000004, -82.543583], [33.005396000000005, -117.080457], [33.877111, -118.135217], [28.37019, -81.30959], [40.375202, -79.983122], [44.945671, -123.041097], [38.611009, -90.212203], [37.392613, -121.071167], [28.391086, -82.66802], [40.707103, -74.253662], [40.766101, -111.93909], [37.38067, -121.958874], [36.08815, -86.78558000000002], [43.30465, -122.51659], [30.394217, -87.273241], [39.844404, -77.200356], [45.51031, -122.78316], [45.178753, -122.852178], [28.579367, -81.723331], [43.364893, -123.329054], [39.90395, -75.19784], [41.59173300000001, -71.957004], [40.790256, -73.92634], [43.211733, -123.261378], [26.318793, -80.11615], [28.44069600000001, -81.229766], [37.354886, -122.112533], [44.756207, -121.225515], [26.44491, -80.08974], [34.036223, -117.3224], [33.54871, -84.283475], [34.02187, -117.99054], [34.31649, -79.917276], [34.16924, -118.46793999999998], [30.483838, -91.088809], [43.81871, -123.04612], [33.858338, -117.982435], [38.679287, -121.22573], [40.765419, -111.93923], [37.608848, -77.45138299999998], [35.37726, -97.50362], [47.157015, -122.22956200000002], [38.63206, -75.805996], [33.313623, -80.551247], [39.148825, -76.63421899999999], [34.844053, -81.96843199999998], [37.578381, -77.466713], [33.880151, -117.565244], [28.205878, -82.667709], [37.60344, -77.5019], [37.561365, -122.277113], [39.19413, -121.027586], [33.787754, -117.87977], [33.960097, -118.26293], [32.690638, -117.11674], [41.591373, -118.429666], [33.340075, -80.571048], [28.504252, -81.41743100000002], [38.545212, -76.795392], [45.712105, -121.51646], [40.424282, -122.282524], [33.995602000000005, -117.875425], [26.125413, -80.34429399999998], [32.783254, -97.212455], [40.62021, -75.49823], [32.20641, -110.8411], [44.42316, -121.80316], [34.00046, -118.17511], [44.08074000000001, -93.2482], [32.746952, -96.740243], [30.533475, -84.597285], [39.400315, -77.436774], [33.910967, -118.168965], [40.32607, -78.735613], [34.1356, -117.38668], [34.457263, -117.57274], [33.80084, -118.20691], [39.31913, -75.84697], [47.3504, -122.24466], [39.015959, -77.016123], [40.117443, -75.137027], [42.269496, -88.073745], [28.01975, -82.258088], [29.747894, -95.57198], [34.027372, -117.800506], [40.09738, -74.14263000000003], [40.801591, -74.072221], [32.946139, -80.15480600000002], [37.895749, -121.712478], [41.75009, -72.729265], [30.477223, -86.574199], [33.48418, -112.11301], [39.875725, -75.052596], [39.141551, -121.587688], [26.094783, -80.231734], [25.889339, -80.165094], [29.93041400000001, -90.037878], [25.782503, -80.200071], [37.464379, -121.154453], [30.332695, -97.704035], [41.763614, -72.630883], [25.940336, -80.1887], [42.153705, -88.02940600000002], [34.15404, -118.34413], [36.854514, -76.179221], [35.895908, -78.609573], [36.05858, -86.59773], [30.447258, -91.210117], [32.71983, -117.11757], [44.756852, -93.253186], [35.20395999999999, -80.75038], [25.924443, -80.309485], [45.22535900000001, -121.69767], [45.34038, -122.7692], [34.037817, -118.27961], [44.606576, -121.138494], [44.504896, -118.134495], [42.38541, -83.023812], [38.663559, -121.377891], [45.190266, -93.396296], [45.41795, -122.41364], [25.685123, -80.425634], [37.557044, -79.84708499999998], [33.81516, -83.72892], [34.823889, -118.875], [41.630126, -72.876638], [38.552097, -121.415946], [41.68807, -87.60059], [30.32064, -81.68583000000002], [44.91966, -93.27449], [34.021171, -118.277682], [29.736279, -95.604828], [30.532617, -87.23684], [33.509411, -112.179301], [32.70903, -96.930233], [33.805563, -117.993047], [42.663036, -122.654708], [39.412544, -77.43571700000003], [36.829274, -119.913558], [41.23582, -122.269967], [34.037612, -118.022408], [37.932917, -121.312064], [29.943374, -90.09341], [47.482546, -122.197808], [30.22505, -93.30009], [29.93182, -90.029319], [39.075807, -94.607354], [35.362394, -118.931547], [38.771158, -90.778135], [31.42845, -83.51456], [40.68062000000001, -74.16901999999997], [34.024729, -118.239231], [45.54334, -122.559281], [37.585048, -113.680042], [35.83049000000001, -78.61879], [39.019012, -76.96421600000002], [36.11930200000001, -86.76659699999998], [27.461639, -82.587556], [40.739217, -74.062998], [41.56709, -81.57816], [33.98495, -118.072375], [40.036334, -75.24504], [33.644518, -78.985871], [41.782029, -72.569426], [42.73856, -83.38396], [36.83482, -76.28886999999997], [38.822147, -121.125791], [40.885163, -73.821931], [25.76972300000001, -80.33341300000002], [27.411249, -80.401264], [37.67138, -77.4609], [36.263916, -119.362161], [38.568583, -121.331305], [36.129829, -115.132381], [36.842664, -119.665439], [30.314532, -81.732247], [28.673785, -81.468053], [28.485668, -81.41736], [39.38498, -106.05687], [28.569447, -81.286197], [37.04349000000001, -76.35039], [25.784353, -80.2927], [35.899768, -78.81515300000002], [41.632333, -87.69815799999998], [35.67737899999999, -78.795901], [37.0817, -77.969822], [33.881986, -117.58423], [38.089068, -122.208488], [32.88667, -97.09936], [25.685183, -80.418839], [38.783104, -76.894511], [25.884164, -80.243217], [40.79215, -74.04539], [39.08329000000001, -94.51991], [35.018353000000005, -80.968816], [37.14623, -121.98619], [42.924581, -78.898905], [40.313388, -121.000147], [29.83146, -95.3831], [29.617322, -82.38624899999998], [29.69783, -95.45921], [38.947766, -121.099247], [43.1399, -77.619456], [34.796334, -82.379889], [33.771783, -118.279809], [42.984648, -74.388341], [39.059406, -77.45653100000001], [45.610507, -94.179233], [35.365068, -80.787421], [36.141759, -86.71418800000002], [37.33388, -122.04951], [32.378808, -111.109587], [41.043579, -73.78825], [32.440944, -80.894304], [40.069501, -75.446874], [34.03027, -117.66279], [40.804381, -73.91829399999997], [25.893512, -80.162581], [28.341482, -81.484101], [32.80911500000001, -80.76709699999998], [40.638751, -122.2404], [38.53918, -121.73651], [28.381294, -81.424551], [30.321898, -81.526763], [28.532599, -82.237161], [42.48826, -82.91715], [42.06739, -71.32835899999998], [37.3162, -121.906998], [33.854, -117.94634], [25.573644, -80.363603], [34.05165, -118.21391], [37.771, -122.419657], [44.01845, -92.86639], [35.60597999999999, -97.49916], [38.114482, -102.629469], [34.1647, -118.47339], [32.177898, -110.943249], [43.17601, -77.6832], [38.928677, -77.027866], [41.07128400000001, -73.909444], [39.74985, -105.01742], [35.371395, -80.711113], [34.87807, -82.04763], [44.920229, -122.99007], [40.73976500000001, -73.84576700000002], [44.777267, -94.182602], [35.011292, -85.030361], [30.315431, -81.752022], [38.77294000000001, -76.88666500000002], [39.85986, -75.13750999999998], [35.352614, -82.455112], [25.785266, -80.249923], [41.75121, -88.01179], [38.38549, -122.71611], [25.626078, -80.418627], [40.238839, -75.615509], [38.527549, -105.384139], [30.407318, -87.274518], [39.24801, -84.47067], [33.085659, -87.67968499999998], [33.137501, -117.159458], [30.44961, -86.636213], [34.22622, -118.37547], [37.066057, -121.613727], [38.701128, -121.623299], [39.960424, -74.99023199999998], [33.932771, -118.300292], [37.484368, -122.212639], [25.86639, -80.20825], [33.462795, -84.21008], [33.176653, -80.033633], [33.87636, -118.08778], [25.8323, -80.20581], [37.639106, -76.407476], [34.204548, -79.540017], [32.740763, -117.116364], [38.290689, -85.907841], [40.433189, -79.962447], [29.445, -98.636788], [25.78267, -80.22375], [28.449892, -81.48461], [33.979219, -118.459164], [35.104304, -80.985603], [42.755697, -73.775068], [41.021841, -73.619663], [34.610572999999995, -120.076557], [40.956805, -77.766991], [40.112322, -75.15055], [30.24838, -97.73537], [47.946069, -122.10108], [29.93715, -95.460388], [39.705051, -78.625985], [25.704077, -80.293102], [34.001327, -118.067031], [42.54103, -70.98621999999997], [35.591878, -94.209693], [45.725286, -110.472744], [35.010290000000005, -85.19229399999998], [39.061115, -76.92119100000002], [32.235914, -110.978679], [35.105167, -120.581478], [39.279438, -121.098979], [34.640584999999994, -92.444641], [39.015229, -77.12276800000002], [34.143141, -117.405378], [34.077713, -117.997912], [35.49626, -97.60116], [26.17092, -80.15786999999997], [33.991205, -117.941773], [34.271925, -118.471959], [39.09687, -94.65311], [28.1544, -81.84715], [30.261332, -82.107871], [39.185625, -121.634799], [32.753814, -117.200027], [40.10846, -75.323863], [37.495243, -122.228997], [30.068067, -90.38981], [33.488297, -117.662981], [32.200206, -110.875102], [42.39625, -123.45898], [33.880487, -117.570644], [39.038865, -77.581263], [34.005185, -117.829276], [33.236149, -111.93303], [39.424953, -120.03558999999998], [34.071967, -118.110293], [40.88709, -74.28154], [45.515005, -122.667547], [45.52245, -122.81575], [35.415856, -119.018095], [39.893878, -74.995476], [40.754011, -74.124222], [43.063411, -76.159082], [45.570512, -122.550697], [28.417018, -81.404597], [41.103712, -74.014067], [25.98526, -80.34725999999998], [33.10856500000001, -84.342235], [45.15379, -121.64622], [36.059136, -79.118412], [29.00507, -81.98361899999998], [37.69592, -122.10489], [33.688901, -112.266095], [41.146985, -96.160508], [25.733081, -80.44787], [40.131114, -75.39909200000002], [47.654839, -122.376204], [41.06297100000001, -111.966736], [42.280057, -87.904155], [38.54407, -90.29657], [32.873156, -96.76315], [28.027592, -82.146867], [43.095887, -75.242436], [25.499608, -80.422626], [33.42968, -83.84713], [34.474012, -120.1368], [38.55269000000001, -90.27472], [25.844269, -80.23358499999998], [47.66371, -122.68256], [30.203599, -84.337745], [34.072303000000005, -118.08178999999998], [34.185106, -118.473863], [35.823462, -78.87474499999998], [35.153986, -120.66218700000002], [29.81036, -95.37394], [39.984383, -75.891971], [34.908918, -85.119827], [33.964777000000005, -118.07036200000002], [31.604801, -97.106384], [28.076173, -82.354019], [40.51648, -75.50719000000002], [40.917195, -73.781143], [33.846796999999995, -117.88911], [33.7657, -84.3862], [33.74749, -84.439296], [43.014655, -83.517545], [46.955149, -112.678987], [30.952848, -87.146925], [40.7726, -73.67385], [34.105542, -80.961223], [33.982027, -118.28751499999998], [28.559608, -81.462905], [25.780416, -80.312021], [38.54296, -122.80571], [42.13919, -121.88746], [39.102029, -77.077042], [38.910194, -122.765833], [42.481738, -117.883955], [30.191926, -97.775447], [34.111567, -118.247048], [34.70656, -86.58924], [36.907909, -76.096939], [35.544647, -120.71078], [41.10798, -73.40828], [28.755718, -81.36368], [34.071116, -118.264667], [38.795926, -90.820089], [41.94272, -87.888292], [35.79835, -78.561702], [25.646715, -80.332898], [26.319218, -80.090801], [39.26432, -104.89469], [36.771899, -119.853333], [37.65001, -122.45261], [37.13200300000001, -121.980017], [43.139595, -71.495212], [39.159193, -121.563871], [42.360845, -83.054226], [40.090456, -74.192329], [40.767521, -73.071561], [34.056758, -81.111257], [38.462136, -121.408211], [26.09076, -80.21654000000002], [26.057327, -80.16233299999998], [25.679866, -80.388711], [40.736926, -73.906929], [33.48867, -81.914495], [34.19473, -91.92236], [37.417717, -121.9732], [39.76300000000001, -86.1434], [33.96002, -118.283563], [34.143813, -81.239859], [39.915717, -86.73451999999996], [33.385805, -111.91343], [27.124653, -82.440292], [38.86127800000001, -121.953491], [33.59485, -117.17724], [38.923142, -94.526377], [30.198263, -97.74432], [36.042485, -86.71293399999998], [34.077713, -117.396468], [41.377207, -88.545469], [39.269093, -76.559234], [45.61897800000001, -121.113699], [36.771883, -119.85598], [36.137131, -86.727369], [38.830199, -76.87446800000002], [41.091302, -78.51728], [37.468649, -122.155007], [33.912637, -98.495928], [43.09353, -76.08429], [34.278218, -119.301081], [27.34444, -82.53099], [29.211821, -82.216049], [40.717209, -73.830496], [44.09781, -123.14734], [37.60039, -122.06201], [25.886734, -80.21080699999997], [44.04017, -121.30637], [44.88977, -93.35351], [48.27323, -121.59662], [30.256168, -97.745853], [34.765513, -78.985737], [25.664759, -80.371771], [37.605605, -77.516984], [33.50925, -112.061244], [39.064432, -76.912246], [39.31821, -76.60706], [34.018006, -118.05284], [40.376697, -111.295162], [37.92643, -122.061472], [35.93306, -84.02238], [34.120038, -117.819526], [39.980708, -75.269724], [30.254255, -97.766975], [36.805411, -119.785426], [45.09156, -93.188011], [37.74232, -121.53017], [34.03326, -118.13007], [32.865547, -96.766007], [37.677208, -82.792404], [30.484195, -84.302247], [33.999516, -117.850994], [38.809322, -76.966234], [33.609790000000004, -84.39609], [43.98401, -123.00818999999998], [41.855732, -71.427644], [34.937499, -82.068139], [39.069767, -76.83086], [28.029743, -82.140446], [35.621594, -120.685923], [33.167834, -117.247814], [37.019951, -122.01766299999998], [26.661361, -80.070515], [34.199783000000004, -118.396456], [35.84627800000001, -78.565908], [39.849454, -75.53811800000003], [41.288766, -77.064297], [41.85753, -88.05266999999998], [40.541964, -74.297972], [41.53549, -72.809876], [38.601037, -77.313501], [38.061801, -121.373745], [37.76475900000001, -121.388146], [37.255914, -121.794074], [33.83489, -118.28725], [32.35352, -90.63359], [32.917663, -96.427798], [47.965256, -122.199298], [33.773179, -117.485273], [42.486157, -83.465326], [38.903009, -77.021422], [26.198968, -80.148938], [42.89815, -78.89747], [25.641153, -80.411879], [45.99519, -122.87702], [38.61127000000001, -121.26412], [40.90427, -78.23330899999998], [38.6251, -121.51723], [28.35741, -81.49181], [32.736999999999995, -117.079704], [34.932851, -82.28506800000002], [32.134135, -110.969579], [33.53672, -112.34107], [28.54307, -81.741553], [34.090165, -117.544278], [33.70167, -84.10795], [36.113325, -86.810968], [40.738817, -74.06165899999998], [37.356895, -121.869009], [37.454374, -77.441868], [45.69328, -110.488608], [34.069288, -117.969285], [37.79031, -122.386396], [39.78254, -86.14619], [42.34938, -83.07078], [41.180909, -96.114975], [37.68805, -122.09628], [28.564882, -81.248456], [26.669532, -80.172635], [33.807731, -92.386232], [33.85423, -117.93768500000002], [34.025490000000005, -118.23703], [42.682796, -74.368847], [28.640985, -81.442778], [46.267219, -106.477788], [33.779121999999994, -117.888447], [47.57927100000001, -122.33929], [40.096267, -74.74240400000002], [45.574807, -94.125191], [37.25555, -121.86725], [38.685964, -121.333294], [40.096061, -76.305001], [37.481886, -122.177742], [40.15679, -77.61716], [35.80477, -78.617413], [36.861065, -76.195637], [28.455436, -81.490554], [37.085992, -80.645924], [37.965612, -77.02404], [44.967694, -93.40058], [34.851669, -82.420395], [40.087893, -79.336838], [28.001645, -80.589474], [34.066489000000004, -117.21336], [34.054481, -118.20247], [25.411217, -80.471154], [44.980527, -93.244646], [29.601119, -95.266437], [32.295671, -95.301378], [28.021477, -82.334815], [45.04232, -93.33027], [27.529562, -82.508021], [42.571452, -124.38784], [33.884721, -118.104368], [37.54447, -77.4491], [41.81493, -72.65104000000002], [27.58341, -82.59504], [34.279113, -118.473403], [33.942782, -117.872858], [33.896652, -117.48422], [43.16461, -77.6354], [34.1858, -117.43178], [46.25449, -107.230628], [25.880626, -80.355278], [37.337137, -76.751374], [33.645601, -117.418643], [41.813381, -71.40697], [33.49471, -112.05631], [38.87343, -77.22048000000002], [40.265283, -103.818829], [29.925448, -90.105482], [34.402472, -118.454837], [33.928768, -118.25018500000002], [27.495024, -81.490661], [37.083447, -120.310747], [39.60568, -77.72584], [40.659205, -73.889342], [30.258525, -82.119916], [34.02871, -84.57507], [33.128876, -117.113719], [39.502332, -119.782045], [40.97927, -74.16041], [32.839459999999995, -97.32084], [30.429297, -84.197276], [44.89089, -93.39929], [35.03246, -80.876743], [39.382424, -76.446054], [26.708267, -81.721726], [39.2998, -76.493971], [38.372543, -75.06834599999998], [44.955507, -93.347429], [32.938178, -80.539144], [45.164291, -92.992049], [31.751690000000004, -110.10054], [30.359655, -81.55390600000001], [38.893423, -76.94445], [38.406083, -122.947717], [27.246093, -82.450023], [38.991175, -94.502474], [29.81387, -95.36064], [33.900852, -80.091939], [26.051904, -80.161889], [28.551347, -81.447505], [42.881463, -83.696975], [26.934624, -80.150359], [41.55147, -73.04024], [38.53111, -121.362779], [33.27641, -84.05067], [40.547374, -74.313505], [39.57105, -104.8733], [35.140484, -77.690857], [33.98229, -81.19338], [38.681252, -121.378497], [26.725889, -81.904898], [41.187475, -121.727732], [48.413677, -114.049299], [42.21912, -121.83902], [33.85611, -118.00633], [25.689146, -80.38287199999998], [37.564085, -122.512543], [37.385401, -121.976136], [31.754772, -106.348613], [41.621843, -88.011721], [41.805785, -87.63116], [39.3248, -77.01163000000003], [44.93413, -93.27453], [33.996044, -84.560061], [44.753573, -124.056177], [40.66764000000001, -111.948418], [42.27652, -83.15824], [34.015153999999995, -118.164547], [42.14999, -72.61296], [32.747818, -96.858796], [34.034716, -118.342749], [39.532259, -122.340727], [35.76122, -119.34444], [48.55386, -122.35027], [28.332802, -81.49476800000002], [37.847983, -122.027629], [32.515023, -93.746669], [34.320875, -118.495832], [43.637684, -95.675114], [35.83414000000001, -78.76903], [47.527757, -95.642894], [25.880005, -80.242866], [29.706343, -95.403043], [37.699354, -121.929057], [27.251049, -82.534852], [44.862857, -93.136293], [38.239764, -78.96349000000002], [28.269152, -82.67434300000002], [27.68561, -80.89415699999998], [34.157829, -117.339836], [45.673545, -111.166287], [25.686576, -80.380597], [33.690915999999994, -117.923308], [34.184281, -79.78881700000002], [28.539855, -81.482024], [35.030849, -85.307342], [40.631464, -78.494879], [33.129669, -92.448309], [31.13518, -103.2679], [34.01485, -118.485916], [44.954928, -93.189135], [41.12547100000001, -74.16141999999998], [37.72001, -121.65891], [36.65853900000001, -119.457512], [44.063748, -123.101044], [41.836985, -75.82088], [33.800785, -117.15632], [44.957163, -93.195692], [46.67122, -92.713955], [25.935392, -80.30825899999998], [40.617433, -111.905079], [41.24643, -76.83078], [33.692459, -117.097952], [41.41246, -81.56589], [34.13177, -117.681759], [41.93412, -87.69955999999998], [38.41293, -122.792869], [45.52596, -122.66528999999998], [36.01178, -83.84600999999998], [35.04224, -85.18701], [44.910532, -93.525377], [34.93785, -82.028151], [36.185706, -86.798232], [33.754108, -118.251724], [33.825235, -84.489418], [33.88255, -118.02589], [42.740546, -73.911262], [32.802, -96.830164], [34.048662, -118.448185], [41.80883, -87.7689], [33.16443, -117.212587], [33.477519, -84.215816], [39.00077, -94.35692], [39.237016, -120.018671], [29.73607, -95.525228], [33.646541, -117.761861], [25.8123, -80.24415], [38.867707, -77.3156], [36.830151, -76.195477], [37.139, -121.667194], [34.50611, -117.83541], [38.70748, -90.0677], [41.230391, -74.177938], [35.74592, -78.59324000000002], [33.09385, -87.67268], [37.372317, -120.944566], [37.34712, -121.85935], [25.518185, -80.402336], [37.277869, -120.443576], [42.96259000000001, -87.94232], [29.671107, -98.158898], [39.037708, -94.681465], [33.978612, -118.127715], [36.263772, -86.718873], [30.463513, -84.31514], [40.793143, -73.16800400000002], [36.666744, -121.685099], [38.91151, -94.39438], [40.921477, -111.896855], [40.667114, -73.995917], [34.177222, -118.876389], [47.4648, -122.27317], [40.16521, -111.64684], [36.357303, -119.428493], [37.654704, -113.082393], [41.02476, -73.73031], [28.538488, -81.470169], [39.143037, -121.070565], [45.635242, -120.915075], [41.6658, -74.71923000000002], [36.878925, -121.564611], [40.404, -79.88280999999998], [33.411008, -86.970065], [39.981808, -75.101585], [34.673095, -94.159085], [34.02499, -118.2387], [40.63625, -111.90497], [44.303763, -120.80707], [41.12281, -73.33593], [34.060463, -118.00126000000002], [27.996275, -81.931727], [41.314736, -78.38459399999998], [45.496348, -94.161919], [36.561017, -119.612739], [36.98387, -121.93382], [42.922455, -78.75415], [34.0173, -118.17555], [38.95793, -76.90531999999997], [47.855105, -122.616057], [43.14891, -123.36499], [30.346856, -96.896744], [34.493956, -117.329834], [43.105161, -123.361426], [43.038007, -76.634713], [38.859204, -120.012159], [33.74487, -84.397281], [40.20718, -75.50754], [33.52394, -112.15154], [38.34687, -104.62008], [34.031668, -118.422427], [44.75693, -93.25302], [30.38781, -86.17430999999998], [38.784148, -121.279075], [33.774398, -118.103737], [38.79329, -77.02556], [34.095154, -117.302047], [39.16595, -121.0568], [40.56598, -78.450989], [40.460819, -74.28086], [42.19727, -87.96994000000002], [33.82548, -118.22931], [37.72999, -122.403729], [34.144977000000004, -80.063232], [33.961422, -81.174305], [39.14872, -120.9006], [40.889214, -73.815175], [39.260619, -76.820279], [39.043875, -76.93458299999998], [32.327529, -95.314272], [32.718920000000004, -117.09569], [37.93283, -122.323822], [34.037581, -118.086252], [25.687316, -80.384433], [34.205463, -119.039972], [40.858613, -111.904828], [33.876543, -118.077256], [42.425541, -122.85048], [27.618242, -82.482391], [34.030376000000004, -117.633651], [36.808995, -119.785117], [38.504972, -90.588738], [39.982525, -76.71249300000002], [26.46674, -80.08927], [30.388271000000003, -81.759117], [45.18014, -93.113], [32.825334999999995, -97.384647], [30.869752, -87.3226], [35.78379, -78.636263], [45.309382, -94.904018], [44.49604, -122.00345], [40.35649, -111.5767], [38.897792, -91.595538], [33.592138, -117.125009], [27.282271, -82.53068], [29.382644, -98.69835], [34.81459, -85.016959], [40.318325, -79.520781], [29.679367, -95.452415], [34.872999, -80.939538], [36.828172, -76.32006700000002], [37.830669, -122.293345], [38.57842, -77.979101], [33.169323, -87.52510699999998], [44.89024000000001, -93.32218], [33.96263, -118.08517], [40.28856, -104.97998], [40.35548, -74.495183], [34.067906, -118.035208], [29.704154, -95.562736], [38.004584, -78.358898], [40.71068, -74.00272], [37.003959, -121.553603], [27.388158, -82.462797], [40.743319, -111.679756], [37.668041, -86.758081], [32.765640000000005, -117.1533], [25.883627, -80.211609], [41.74752, -91.64214], [33.353472, -81.269506], [36.148231, -119.056207], [47.112406, -122.434731], [43.689719, -119.016877], [36.707379, -77.16486], [34.951965, -82.00855899999998], [36.778725, -119.942172], [33.87255, -80.023574], [28.359539, -81.645616], [34.030590000000004, -117.63316], [39.8646, -75.34782], [30.192831, -90.920328], [38.683732, -121.750637], [38.165078, -122.5779], [42.45415, -87.854653], [34.047704, -118.007873], [34.04013, -118.57905], [34.004728, -118.172799], [38.493966, -121.443877], [45.505311, -122.673389], [47.672951, -122.105875], [33.31312, -84.18884], [35.444588, -119.090764], [29.64603, -95.54117], [28.567573, -81.21490899999998], [33.375531, -117.562034], [29.77728, -95.42233], [25.686211, -80.392677], [25.927788, -80.204583], [34.03717, -118.08882], [30.77862600000001, -88.258178], [41.42418, -81.684], [29.76969, -95.45592], [33.510084, -86.820247], [33.680322, -81.124086], [38.765097, -120.482328], [32.346642, -95.295358], [40.605879, -74.262333], [45.776983, -123.332388], [28.381007, -81.404418], [40.67811500000001, -77.151021], [39.696961, -86.182197], [34.134367, -118.067489], [33.991982, -80.95504100000002], [38.76615, -90.13088], [43.009812, -71.433921], [42.98233, -78.78988000000003], [39.26035, -76.70279000000002], [25.652615, -80.38262399999998], [38.74952, -77.08296], [35.995813, -79.867182], [33.038149, -97.002165], [38.708535, -77.200788], [38.630644, -121.217705], [33.86158, -118.09724], [38.02600200000001, -121.612866], [37.324801, -77.64604200000002], [38.495969, -121.459148], [36.11919, -86.72860899999998], [42.35067, -71.09515], [38.766146, -76.994475], [33.8221, -118.19631], [25.686005, -80.39960699999997], [33.88624, -84.26684], [39.603624, -84.22864100000002], [40.167936, -76.388386], [29.751583, -95.776164], [38.582141, -121.383068], [28.167024, -80.705727], [35.054005, -80.850101], [29.45637, -98.41307], [27.298721, -82.464439], [40.133367, -76.798971], [31.22509, -85.36033], [33.953795, -117.304873], [32.936956, -117.241359], [34.293619, -118.470243], [36.157629, -86.770912], [33.97867, -118.07803], [39.644447, -78.79105899999998], [28.67793, -81.48871], [41.071275, -73.482969], [37.366251, -121.905568], [40.01396, -78.46993], [37.54315, -77.45608], [25.939192, -80.192797], [36.403295, -121.316427], [33.962013, -118.231992], [38.06261, -122.163642], [34.979276, -81.871249], [32.92391, -96.77672], [32.794055, -96.707167], [39.95755, -75.159384], [34.607288, -82.956816], [42.24547000000001, -122.784133], [28.505938, -81.396974], [44.965589, -93.268448], [34.073807, -117.752763], [41.150654, -73.692115], [33.40671, -111.97008], [25.687022, -80.365866], [33.925239000000005, -117.880042], [37.673803, -121.45949], [45.85848, -123.55248], [43.58298900000001, -116.274115], [33.50562, -112.04753999999998], [34.1426, -117.488082], [32.800313, -97.212005], [29.956404, -90.092438], [34.715385999999995, -82.788942], [34.291569, -118.467941], [47.437752, -122.269495], [39.447061, -123.755142], [29.66641, -95.284039], [41.087912, -73.45704599999998], [47.4852, -122.26894], [33.97133, -117.3311], [33.05581, -80.203662], [45.074499, -93.28687], [28.301225, -81.375823], [37.601215, -122.425737], [34.48124, -82.652335], [42.738324, -73.782885], [29.707439, -95.47624], [32.705408, -96.827992], [40.098753, -75.17486600000002], [40.707961, -124.21021299999998], [39.243174, -94.506529], [41.7994, -87.60127], [30.284575, -97.916625], [32.964490000000005, -117.247136], [47.41566, -122.84554], [34.025021, -118.394718], [36.158595, -86.782759], [43.635739, -123.21735], [28.880277000000003, -80.923501], [40.727446, -73.929405], [26.037417, -80.163942], [33.734140000000004, -84.23092], [38.595995, -121.399529], [28.350453, -80.69994799999998], [40.644139, -74.665602], [39.06057, -77.15573], [40.915214, -77.00013], [44.83083, -93.29322], [38.15940300000001, -121.807131], [40.529788, -81.918947], [38.631141, -121.218015], [34.010539, -118.160347], [41.838887, -77.09399300000003], [33.915009000000005, -117.55733], [26.363979, -80.11963], [39.063445, -74.833298], [33.320715, -81.123474], [37.996226, -78.315744], [44.53631, -119.876364], [43.48821, -89.49367], [30.511056, -87.269811], [36.326133, -119.134908], [38.641436, -121.461418], [44.392286, -123.061498], [27.386567, -82.413617], [25.703314, -80.290734], [26.372379, -81.80775799999998], [38.477373, -121.496196], [33.959759000000005, -118.114539], [33.854240000000004, -117.93745], [37.75437700000001, -121.38732], [45.19734, -93.55802], [36.24627, -120.31532], [27.791624, -82.341382], [25.857832, -80.20820400000002], [36.636023, -87.211275], [43.673278, -116.354227], [41.814769, -87.914067], [27.975751, -82.453703], [33.41023, -82.0907], [37.941175, -122.470794], [25.913199, -80.344936], [34.017864, -79.751374], [34.156805, -118.410419], [33.98632, -118.13594], [25.835548, -80.235214], [40.435663, -122.525228], [39.296161, -84.537278], [33.376542, -117.227773], [33.631221999999994, -78.96340699999998], [42.745324, -84.508455], [39.316209, -120.443587], [32.86821, -117.22972], [41.246261, -73.095887], [25.933377, -80.252689], [33.825581, -117.876301], [40.087431, -123.811143], [39.019692, -76.98085], [41.73481, -72.66427], [41.48597, -72.057705], [28.452626, -80.880907], [35.159652, -81.467475], [25.78688, -80.21149], [39.76942, -105.10967], [38.643981, -121.272529], [39.934083, -75.08283399999998], [38.17998400000001, -122.132611], [33.556824, -117.641037], [41.23057, -112.01297], [33.961343, -80.250405], [32.88833, -96.705755], [34.155570000000004, -83.64254], [40.732582, -74.11886899999998], [30.411072, -97.677865], [33.757796, -78.967481], [34.045381, -117.310832], [29.942449, -90.085479], [37.998673, -121.817966], [34.827213, -82.228043], [37.6651, -121.696639], [33.722843, -84.235812], [42.15366, -88.02053000000002], [36.021108, -83.91582700000002], [28.300823, -81.375334], [37.646602, -120.69546], [40.260929, -76.114139], [35.42918, -120.751708], [37.80432, -122.23331], [36.789318, -76.223949], [34.031358000000004, -118.43349], [45.64683, -110.889011], [34.07547, -117.29543], [28.421372, -81.402214], [40.91078, -74.50895], [33.932539, -117.556232], [34.862269, -120.436731], [42.272895, -114.57469], [39.08149, -94.59363], [36.692219, -119.557586], [39.905268, -75.11373], [33.868757, -117.706962], [45.52901, -122.60196], [27.805211, -82.679459], [30.421711, -91.051478], [34.030389, -117.684241], [37.995426, -120.265701], [40.255783, -76.868923], [28.06727, -82.734629], [36.152385, -86.82279], [44.744978, -117.836083], [25.64378, -80.33426999999998], [37.81619600000001, -79.669386], [37.510124, -122.344018], [44.60645, -121.13834], [45.34127, -93.00424], [45.07444, -93.32008], [36.077374, -86.766318], [44.949862, -93.101886], [25.899656, -80.181674], [28.576341, -81.475988], [30.138690000000004, -97.722088], [34.164984000000004, -118.232023], [45.598244, -117.772514], [30.02609600000001, -90.010417], [34.030058000000004, -117.702501], [43.597379, -116.319262], [34.241772999999995, -117.869498], [39.291647, -123.794002], [42.089314, -88.354766], [35.073607, -85.189976], [35.042217, -85.1921], [39.87378, -75.09521], [45.73793, -92.99175], [38.532452, -90.523392], [27.460586, -82.575282], [42.35759, -123.33206], [41.27701, -95.78633], [29.783946000000004, -95.462124], [39.297515, -123.283303], [47.59750800000001, -94.768021], [25.74648, -80.219749], [45.66251, -118.78268], [40.581794, -75.386984], [40.7416, -73.83748], [29.650106, -95.348684], [43.195977, -77.600724], [41.41405, -112.05044], [33.86056, -118.31343], [37.517695, -77.426053], [38.148586, -120.825827], [34.034938000000004, -118.17356399999998], [39.797126, -104.987293], [36.160854, -86.784195], [28.232643, -81.649187], [38.651464, -77.289161], [37.607756, -97.325402], [33.92694, -118.2809], [37.435902, -77.431007], [33.960919, -117.315177], [35.996645, -86.689589], [39.922696, -86.032723], [44.78435, -68.81024000000001], [25.717728, -80.32006], [40.754331, -73.852897], [40.638025, -73.95486899999999], [47.47958, -122.327776], [36.06092, -95.893667], [39.580286, -77.872709], [36.30755900000001, -119.714227], [26.117881, -80.326656], [29.507399, -81.195927], [28.493596000000004, -81.46453000000002], [34.055355, -118.099477], [43.579405, -116.251581], [34.901868, -86.751323], [38.282315, -90.403685], [34.398992, -81.048488], [27.447474, -82.52785], [38.910404, -121.068776], [38.93283, -120.900976], [29.797344, -95.450302], [29.681428000000004, -95.301534], [34.021421999999994, -118.162161], [27.941921, -82.330528], [42.71664000000001, -87.95379], [47.61504, -122.18818], [33.39853, -111.89131], [33.73072, -117.98667], [36.961, -121.400196], [33.98774, -118.39895], [30.41257, -84.29408000000002], [33.832345000000004, -117.362272], [35.159071000000004, -119.108244], [32.82574, -96.8831], [34.037581, -118.086252], [37.633119, -77.450877], [32.902326, -96.721063], [40.86863, -76.98879000000002], [38.695528, -120.813435], [38.016549, -121.638821], [29.783490000000004, -95.47476], [32.75406, -86.51129], [39.114561, -121.634749], [33.960007, -118.286764], [37.38656, -77.46609699999998], [44.664276, -92.778484], [38.43532, -122.69196], [26.248569, -80.13646899999998], [44.907479, -122.98631], [33.626098, -117.9223], [36.322437, -119.40309], [38.357214, -77.031452], [34.071803, -118.122867], [32.751182, -96.815642], [47.545276, -122.285052], [33.8223, -79.522764], [38.35899000000001, -77.01682], [34.085306, -117.689706], [43.094618, -76.04299499999998], [38.560904, -121.482293], [39.28875, -111.251474], [38.4071, -121.38558], [38.19059, -87.834588], [34.051941, -117.161003], [41.73555, -74.06583], [46.53011400000001, -92.384623], [40.020651, -121.07145], [45.62944, -118.66989], [41.742779, -72.66261899999998], [39.274947, -121.021445], [39.3481, -76.74249], [41.041671, -76.87119799999998], [43.060373, -82.764517], [32.71154, -117.14773999999998], [25.926454, -80.244692], [45.407019, -94.849251], [30.43907, -91.18733], [32.656890000000004, -96.88434], [30.457558, -81.635936], [38.263646, -122.404913], [35.806196, -78.564607], [37.80647, -121.99071], [33.768747999999995, -84.652004], [30.47209, -87.228437], [43.097709, -75.241463], [35.790958, -78.65828], [33.497577, -117.149396], [30.185459, -81.557851], [39.035571, -94.317071], [33.817519, -117.831852], [30.281335, -81.521505], [38.481589, -121.334886], [34.11629, -117.82392], [45.858133, -123.549592], [29.866993, -82.76906600000002], [35.797149, -78.60543], [33.32631, -111.89357], [28.451732, -81.09485699999998], [39.9603, -75.1809], [35.557101, -82.608549], [35.011571, -85.224876], [35.19998, -80.78761999999998], [39.223666, -123.76975], [30.74516400000001, -85.461863], [37.974189, -121.339498], [40.030211, -86.460799], [30.368636, -81.76088], [40.290056, -79.017174], [44.862188, -93.237737], [28.348965000000003, -82.677068], [37.03426, -77.65796800000003], [34.06401, -117.9991], [37.53745, -77.52901999999997], [30.513421, -87.086101], [43.977795, -124.062834], [25.888536, -80.18438], [26.161853, -80.202991], [39.028705, -84.535492], [40.069464, -75.149956], [41.224941, -95.951853], [45.451032, -94.506768], [25.986584, -80.346132], [42.18809, -122.667857], [37.933297, -79.227595], [40.762, -111.91315], [33.872806, -118.309144], [42.94706, -83.72442], [25.750508, -80.368004], [28.28448, -82.67596800000003], [35.064664, -80.77159499999998], [34.06743, -117.42777], [40.495322, -79.908716], [33.06482800000001, -96.690774], [29.998046, -82.592733], [37.78802, -121.30093], [47.930934, -97.496694], [34.170296, -118.602533], [35.149026, -90.134192], [35.137272, -80.937158], [30.369339, -97.71061], [40.433539, -77.947772], [25.769711, -80.335312], [33.781075, -118.090349], [33.757151, -117.133594], [33.928740000000005, -118.25041], [36.762895, -76.488865], [34.010413, -117.82347], [34.067412, -117.534881], [40.65308, -111.97695], [37.593183, -122.413879], [39.871047, -75.319722], [33.638721000000004, -112.347525], [41.727375, -72.758121], [35.260798, -80.775615], [35.855186, -78.589111], [35.77245999999999, -78.268457], [39.599112, -84.25370600000002], [34.005720000000004, -117.96019], [35.86975, -78.83326], [38.866914, -94.526807], [40.390207, -111.575655], [39.01291, -123.688161], [34.027374, -117.800513], [42.380405, -87.90453000000002], [33.75, -81.530183], [37.544941, -122.061559], [39.364995, -77.400189], [33.792314000000005, -118.207668], [36.942486, -76.260253], [45.507258, -122.718953], [26.122151, -80.145729], [36.11565, -86.775754], [34.442143, -119.784885], [37.233673, -93.261269], [39.704067, -105.262428], [42.390949, -83.008279], [34.063677, -117.285001], [30.411126, -86.700841], [33.9213, -118.08314], [37.609428, -120.993582], [45.37237, -122.59076], [39.992775, -75.200879], [34.07682, -117.81273], [39.30062, -76.90939], [38.390125, -75.100064], [42.89679, -85.678], [37.63681, -122.43967], [34.414383, -119.704724], [34.064213, -117.826508], [37.47615, -121.93249], [40.77035, -73.56468000000002], [37.3161, -121.95023], [28.449853000000004, -81.470863], [32.190102, -110.912379], [32.352419, -86.219574], [33.008761, -117.079946], [37.010957, -120.108086], [34.201127, -118.468526], [33.54886, -84.57117], [37.527451, -121.997541], [39.22549, -85.953868], [40.317281, -75.43123800000002], [32.865056, -96.665768], [40.74362, -73.47371], [35.09672800000001, -81.664568], [45.354976, -122.62159], [34.034155, -118.363967], [42.05464600000001, -87.760795], [29.520689, -98.502503], [25.761743, -80.34162099999998], [44.07777, -117.00926], [45.525493, -122.665691], [28.35656, -81.48249], [39.87433, -82.92708], [38.664496, -121.005353], [47.702862, -122.330092], [39.809761, -123.248083], [29.725718, -95.476674], [35.767353, -78.735612], [25.888885, -80.18639499999998], [25.698924, -80.366125], [38.65074, -121.07679], [41.177988, -112.001158], [28.331024, -82.668176], [32.83812, -96.63286], [41.87541, -87.67477], [40.027717, -124.066204], [43.605159, -116.277573], [40.01237, -75.181439], [34.038466, -118.274699], [42.859036, -73.774862], [39.71414, -74.27838], [29.737291, -95.605941], [45.191373, -93.545967], [35.29203, -119.02935], [34.035327, -118.170158], [35.19486699999999, -80.884055], [35.014375, -85.337402], [45.29018, -122.94758], [40.537952, -76.42899799999998], [35.227921, -80.84389499999997], [39.614054, -119.313947], [34.074101, -118.122492], [26.567031, -81.88413100000002], [41.23126, -96.08688], [25.580976, -80.373583], [30.192940000000004, -97.77888], [44.971193, -93.46448], [42.739342, -123.370941], [29.76807, -95.35602], [37.000439, -76.471722], [35.875195, -78.541014], [36.763464, -76.2677], [37.139444, -122.127585], [37.701035, -121.812395], [34.15758, -118.4525], [34.081865, -117.719328], [35.08573, -80.817938], [45.895533, -122.478359], [37.713306, -121.567999], [33.481358, -112.029013], [28.461127, -81.567774], [37.86117, -122.033], [41.62008400000001, -93.776925], [40.772441, -74.032176], [39.101341, -77.040767], [40.705929, -73.46876800000003], [33.964519, -117.549009], [44.07109000000001, -91.32103], [40.479762, -123.728207], [33.66792, -117.81774], [42.683913, -73.846584], [47.442662, -114.09693], [25.899849, -80.176793], [33.984952, -117.907378], [40.70072, -73.96139000000002], [34.0284, -118.448381], [35.181265, -80.83643599999998], [33.46716, -117.66982], [33.93438, -118.100266], [37.921855, -122.354109], [42.581825, -73.73955699999998], [37.72395, -77.449804], [35.75660300000001, -78.854298], [40.038418, -76.30863199999997], [29.96477, -90.094478], [27.429425, -81.418181], [48.177424, -114.051342], [37.797228, -79.393633], [40.50024000000001, -76.1825], [45.31993, -93.27053], [26.547702, -81.774716], [36.319091, -119.6998], [45.53998, -122.42398], [35.259722, -118.912172], [32.03007, -81.11524], [38.99177, -76.88377], [33.905659, -117.456269], [33.923342, -118.103681], [34.042952, -118.272653], [40.896718, -96.634066], [38.167203, -122.202969], [42.412137, -83.76400100000002], [30.362522, -81.55320999999998], [37.663981, -121.028285], [33.920685, -117.431756], [34.083054, -117.544943], [40.838831, -73.933171], [40.73681, -111.90444], [38.61909, -90.28509], [42.209693, -87.992346], [45.33331, -93.00457], [35.599211, -119.210726], [41.00077, -111.90785], [37.895311, -120.565177], [34.039548, -117.550381], [32.176882, -111.030157], [37.53975, -77.43213], [33.765572, -112.513071], [34.897641, -82.375748], [27.955559, -82.490597], [35.266617, -118.842777], [47.781475, -122.316773], [38.95793, -76.90531999999997], [25.964562, -80.23344200000003], [38.75139, -90.44763], [34.147766, -118.08402], [38.496439, -77.382217], [42.1278, -71.85741999999998], [32.847842, -79.987091], [32.76674000000001, -97.06319], [37.036725, -122.019428], [40.4094, -74.3056], [41.118907, -73.522509], [35.124029, -81.81921700000002], [32.91211, -96.73633], [33.88596, -118.19], [40.88945, -74.134229], [37.295212, -121.809986], [30.359655, -81.55390600000001], [35.125458, -85.115402], [33.774143, -118.057373], [38.05303, -120.20244], [38.74262, -90.37766], [34.047540000000005, -118.26679], [37.578252, -122.047194], [29.263018, -82.19184200000002], [33.915801, -118.189285], [32.788985, -96.800419], [32.836683, -97.362828], [47.542594, -122.33419], [39.298036, -76.805047], [32.78443, -96.7914], [36.60706, -120.5892], [39.09875, -76.62821], [38.281872, -122.302552], [40.70788, -111.90367], [28.086846, -82.451359], [34.428521999999994, -110.091071], [42.98072, -85.67724], [32.709488, -117.099041], [36.759983, -119.831397], [33.58017, -117.6716], [32.774266, -117.126134], [45.26623, -84.92496], [33.378124, -111.96917], [38.940761, -77.13731999999997], [36.62188, -79.85996999999998], [39.045934, -94.415071], [33.81072, -118.291931], [42.19573, -87.95397], [42.814688, -73.980933], [34.091702000000005, -82.598401], [37.151566, -121.014178], [43.153689, -121.794848], [33.583597999999995, -117.181023], [37.056831, -76.41425699999998], [35.23982, -80.88586], [43.63518, -116.354401], [39.10757, -78.200778], [40.75072, -73.75083000000002], [32.35385, -90.73654], [28.640926, -81.44323100000003], [33.925069, -118.20989], [36.11731500000001, -86.697437], [39.181118, -123.235003], [32.818998, -96.869245], [34.030398, -117.623287], [28.482248, -81.396664], [26.19981, -80.1478], [35.026139, -80.970373], [34.53432, -82.43538000000002], [41.44297, -87.57698], [35.21879000000001, -80.884429], [30.38066, -81.67347], [45.679639, -122.587326], [39.205301, -119.788774], [39.617004, -77.785252], [30.386685, -91.165894], [39.557904, -107.337902], [32.727552, -117.104376], [34.081065, -117.997641], [34.160073, -118.469604], [33.88521, -86.84653], [38.924013, -109.97485], [34.2247, -118.473084], [37.889141, -122.516615], [25.891071, -80.209529], [38.298608, -122.033804], [41.805143, -88.187462], [33.88374, -98.526562], [35.448503, -119.030997], [39.20653, -105.99493], [37.849533, -112.827747], [47.60593, -122.32863], [39.583278, -79.97917], [34.24329, -84.76795], [39.843942, -103.59276], [43.97188, -92.06495], [44.97027, -93.31222], [32.767051, -86.526308], [39.427026, -76.636655], [38.68491, -121.33939], [45.77434, -122.87818], [41.768926, -72.859599], [38.796413, -77.134458], [33.67443, -112.2549], [42.16768, -87.922064], [42.2301, -83.37876999999997], [42.35449000000001, -74.07166], [41.92716400000001, -91.677163], [40.31113, -76.897757], [33.95669, -117.30653], [36.141569, -86.740561], [34.024669, -117.750932], [32.26115, -110.99503], [32.924422, -96.769295], [37.396913, -120.460463], [37.77304, -122.40657], [33.772024, -117.275681], [43.1542, -77.61353000000003], [30.302438, -81.641357], [40.156729, -75.858473], [40.384443, -111.831346], [25.925898, -80.166604], [43.145566, -77.650225], [33.98808, -84.54624], [33.706734000000004, -87.258774], [29.778348, -95.355195], [36.08314, -86.69811], [39.76125, -76.176388], [38.363551, -122.712548], [35.090535, -80.667575], [44.13568, -124.12186], [43.304411, -78.87391], [44.465997, -119.459582], [30.70098, -88.12358], [25.87242, -80.20888000000002], [40.829673, -73.83921099999998], [39.703091, -86.108041], [40.103069, -87.062777], [42.36375, -83.06891], [37.701168, -121.826389], [37.310216, -80.064213], [29.39687, -81.15207], [45.03231, -92.9674], [39.105416, -108.444167], [34.795674, -118.858202], [37.6636, -122.10584], [33.48425, -112.11319], [40.183879, -110.66362], [38.520753000000006, -90.326214], [33.312192, -81.190634], [34.153839000000005, -118.325889], [41.024118, -73.84631], [39.528633, -119.718966], [28.59866400000001, -81.417323], [37.507702, -77.425937], [34.204274, -79.69891899999998], [38.81942, -77.13056999999998], [39.66735, -105.144921], [28.08799, -82.45137], [34.25597, -118.32609], [44.69428, -93.29036], [30.288501, -81.627312], [30.196040000000004, -93.269108], [44.866479, -93.396974], [47.97838, -122.14466000000002], [33.925047, -118.291868], [30.278976, -97.732193], [27.980176, -82.735391], [45.352864, -93.814043], [33.876096000000004, -118.163591], [37.061429, -76.42067800000002], [35.930753, -84.026992], [44.105354, -93.245572], [38.971241, -123.116601], [26.001252, -80.218065], [43.029584, -83.678508], [39.498032, -121.600317], [33.677989000000004, -117.758206], [30.513235, -87.218547], [32.182176, -81.028766], [44.89012, -93.2958], [28.063328, -82.713396], [27.025012, -80.230836], [30.21238300000001, -97.831178], [25.898339, -80.20977099999998], [34.231034, -117.241267], [43.6116, -116.59913], [25.71537600000001, -80.431229], [36.859227, -120.340965], [29.575381, -98.594624], [34.983476, -85.408741], [39.523549, -121.572554], [27.29886, -82.524971], [28.551963, -81.50408399999998], [39.23141500000001, -77.284451], [25.687212, -80.355967], [42.370698, -87.919034], [46.846927, -92.521771], [32.730183000000004, -114.621235], [37.728562, -121.107856], [30.403622, -81.564785], [45.669611, -111.164837], [26.448082, -81.81776500000002], [45.980132, -94.339653], [34.186266, -80.216706], [40.829893, -74.025882], [34.115611, -117.520652], [34.569432, -120.369373], [35.371738, -119.043463], [39.01585, -77.0079], [33.982245, -118.394621], [34.14829, -118.08608999999998], [33.871907, -79.75330699999998], [39.325851, -76.526609], [33.7899, -118.20778], [38.999078, -94.502049], [34.691028, -92.392858], [28.534629, -81.20891800000003], [35.206925, -80.86099399999998], [25.760892, -80.398847], [27.06925, -82.095197], [35.598078, -80.76446899999998], [34.832401000000004, -82.343585], [28.192988, -82.394188], [32.5157, -93.71064], [25.86297, -80.242384], [37.583894, -122.406503], [34.067349, -117.430739], [34.027734, -118.427715], [33.862320000000004, -118.19928], [39.876587, -83.008831], [40.65749, -73.98307], [36.11476, -115.17298], [37.363415, -121.896941], [38.050593, -122.531208], [29.941478000000004, -90.096062]],\n",
              "                {&quot;blur&quot;: 15, &quot;maxZoom&quot;: 18, &quot;minOpacity&quot;: 0.5, &quot;radius&quot;: 25}\n",
              "            ).addTo(map_ae5a836785600b381758e14d807bae4c);\n",
              "        \n",
              "&lt;/script&gt;\n",
              "&lt;/html&gt;\" style=\"position:absolute;width:100%;height:100%;left:0;top:0;border:none !important;\" allowfullscreen webkitallowfullscreen mozallowfullscreen></iframe></div></div>"
            ]
          },
          "metadata": {},
          "execution_count": 47
        }
      ],
      "source": [
        "map = folium.Map()\n",
        "HeatMap(lat_lon_pairs).add_to(map)\n",
        "map"
      ]
    },
    {
      "cell_type": "markdown",
      "metadata": {
        "id": "0lT7ML7Y7a04"
      },
      "source": [
        "## Ask & answer questions\n",
        "\n",
        "1. Are there more accidents in warmer or colder areas?\n",
        "2. Which 5 states have the highest number of accidents? How about per capita?\n",
        "3. Does New York show up in the data? If yes, why is the count lower if this the most populated city.\n",
        "4. Among the top 100 cities in number of accidents, which states do they belong to most frequently.\n",
        "5. What time of the day are accidents most frequent in? - ANSWERED\n",
        "6. Which days of the week have the most accidents?\n",
        "7. Which months have the most accidents?\n",
        "8. What is the trend of accidents year over year (decreasing/increasing?)\n",
        "9. When is accidents per unit of traffic the highest."
      ]
    },
    {
      "cell_type": "markdown",
      "metadata": {
        "id": "SQLy7M_57frj"
      },
      "source": [
        "## Summary and Conclusion\n",
        "\n",
        "\n",
        "Insights:\n",
        "- The number of accidents per city decreases exponentially\n",
        "- Less than 5% of cities have more than 1000 yearly accidents.\n",
        "- Over 1200 cities have reported just one accident \n",
        "- A high percentage of accidents occur between 12 pm to 6 pm\n",
        "- Next highest percentage is 6 am to 10 am.\n",
        "- On Sundays, the peak occurs between 11 am and 9 pm, unlike weekdays\n",
        "- Much data is missing for 2016. Maybe even 2017.\n"
      ]
    },
    {
      "cell_type": "code",
      "execution_count": 48,
      "metadata": {
        "id": "LewPG6X-7h-f",
        "colab": {
          "base_uri": "https://localhost:8080/"
        },
        "outputId": "4fb19ec0-be2d-4a8c-933c-4d5fa68eb6af"
      },
      "outputs": [
        {
          "output_type": "stream",
          "name": "stdout",
          "text": [
            "Looking in indexes: https://pypi.org/simple, https://us-python.pkg.dev/colab-wheels/public/simple/\n",
            "Requirement already satisfied: jovian in /usr/local/lib/python3.9/dist-packages (0.2.47)\n",
            "Requirement already satisfied: click in /usr/local/lib/python3.9/dist-packages (from jovian) (8.1.3)\n",
            "Requirement already satisfied: uuid in /usr/local/lib/python3.9/dist-packages (from jovian) (1.30)\n",
            "Requirement already satisfied: pyyaml in /usr/local/lib/python3.9/dist-packages (from jovian) (6.0)\n",
            "Requirement already satisfied: requests in /usr/local/lib/python3.9/dist-packages (from jovian) (2.27.1)\n",
            "Requirement already satisfied: urllib3<1.27,>=1.21.1 in /usr/local/lib/python3.9/dist-packages (from requests->jovian) (1.26.15)\n",
            "Requirement already satisfied: charset-normalizer~=2.0.0 in /usr/local/lib/python3.9/dist-packages (from requests->jovian) (2.0.12)\n",
            "Requirement already satisfied: idna<4,>=2.5 in /usr/local/lib/python3.9/dist-packages (from requests->jovian) (3.4)\n",
            "Requirement already satisfied: certifi>=2017.4.17 in /usr/local/lib/python3.9/dist-packages (from requests->jovian) (2022.12.7)\n"
          ]
        }
      ],
      "source": [
        "!pip install jovian"
      ]
    },
    {
      "cell_type": "code",
      "execution_count": 49,
      "metadata": {
        "id": "dYOKMWpw7h7d"
      },
      "outputs": [],
      "source": [
        "import jovian"
      ]
    },
    {
      "cell_type": "code",
      "execution_count": 50,
      "metadata": {
        "colab": {
          "base_uri": "https://localhost:8080/"
        },
        "id": "QECA07XY7euj",
        "outputId": "e004e178-0050-401e-e085-e693d3bbc10a"
      },
      "outputs": [
        {
          "output_type": "stream",
          "name": "stdout",
          "text": [
            "[jovian] Detected Colab notebook...\u001b[0m\n",
            "[jovian] jovian.commit() is no longer required on Google Colab. If you ran this notebook from Jovian, \n",
            "then just save this file in Colab using Ctrl+S/Cmd+S and it will be updated on Jovian. \n",
            "Also, you can also delete this cell, it's no longer necessary.\u001b[0m\n"
          ]
        }
      ],
      "source": [
        "jovian.commit()"
      ]
    }
  ],
  "metadata": {
    "accelerator": "GPU",
    "colab": {
      "machine_shape": "hm",
      "provenance": []
    },
    "language_info": {
      "name": "python"
    },
    "kernelspec": {
      "name": "python3",
      "display_name": "Python 3"
    },
    "gpuClass": "standard"
  },
  "nbformat": 4,
  "nbformat_minor": 0
}